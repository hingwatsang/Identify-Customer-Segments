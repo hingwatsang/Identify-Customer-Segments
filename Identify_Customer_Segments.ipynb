{
 "cells": [
  {
   "cell_type": "markdown",
   "metadata": {},
   "source": [
    "# Project: Identify Customer Segments\n",
    "\n",
    "In this project, you will apply unsupervised learning techniques to identify segments of the population that form the core customer base for a mail-order sales company in Germany. These segments can then be used to direct marketing campaigns towards audiences that will have the highest expected rate of returns. The data that you will use has been provided by our partners at Bertelsmann Arvato Analytics, and represents a real-life data science task.\n",
    "\n",
    "This notebook will help you complete this task by providing a framework within which you will perform your analysis steps. In each step of the project, you will see some text describing the subtask that you will perform, followed by one or more code cells for you to complete your work. **Feel free to add additional code and markdown cells as you go along so that you can explore everything in precise chunks.** The code cells provided in the base template will outline only the major tasks, and will usually not be enough to cover all of the minor tasks that comprise it.\n",
    "\n",
    "It should be noted that while there will be precise guidelines on how you should handle certain tasks in the project, there will also be places where an exact specification is not provided. **There will be times in the project where you will need to make and justify your own decisions on how to treat the data.** These are places where there may not be only one way to handle the data. In real-life tasks, there may be many valid ways to approach an analysis task. One of the most important things you can do is clearly document your approach so that other scientists can understand the decisions you've made.\n",
    "\n",
    "At the end of most sections, there will be a Markdown cell labeled **Discussion**. In these cells, you will report your findings for the completed section, as well as document the decisions that you made in your approach to each subtask. **Your project will be evaluated not just on the code used to complete the tasks outlined, but also your communication about your observations and conclusions at each stage.**"
   ]
  },
  {
   "cell_type": "code",
   "execution_count": 1,
   "metadata": {},
   "outputs": [
    {
     "data": {
      "text/plain": [
       "'\\nImport note: The classroom currently uses sklearn version 0.19.\\nIf you need to use an imputer, it is available in sklearn.preprocessing.Imputer,\\ninstead of sklearn.impute as in newer versions of sklearn.\\n'"
      ]
     },
     "execution_count": 1,
     "metadata": {},
     "output_type": "execute_result"
    }
   ],
   "source": [
    "# import libraries here; add more as necessary\n",
    "import numpy as np\n",
    "import pandas as pd\n",
    "import matplotlib.pyplot as plt\n",
    "import seaborn as sns\n",
    "\n",
    "# magic word for producing visualizations in notebook\n",
    "%matplotlib inline\n",
    "\n",
    "'''\n",
    "Import note: The classroom currently uses sklearn version 0.19.\n",
    "If you need to use an imputer, it is available in sklearn.preprocessing.Imputer,\n",
    "instead of sklearn.impute as in newer versions of sklearn.\n",
    "'''"
   ]
  },
  {
   "cell_type": "markdown",
   "metadata": {},
   "source": [
    "### Step 0: Load the Data\n",
    "\n",
    "There are four files associated with this project (not including this one):\n",
    "\n",
    "- `Udacity_AZDIAS_Subset.csv`: Demographics data for the general population of Germany; 891211 persons (rows) x 85 features (columns).\n",
    "- `Udacity_CUSTOMERS_Subset.csv`: Demographics data for customers of a mail-order company; 191652 persons (rows) x 85 features (columns).\n",
    "- `Data_Dictionary.md`: Detailed information file about the features in the provided datasets.\n",
    "- `AZDIAS_Feature_Summary.csv`: Summary of feature attributes for demographics data; 85 features (rows) x 4 columns\n",
    "\n",
    "Each row of the demographics files represents a single person, but also includes information outside of individuals, including information about their household, building, and neighborhood. You will use this information to cluster the general population into groups with similar demographic properties. Then, you will see how the people in the customers dataset fit into those created clusters. The hope here is that certain clusters are over-represented in the customers data, as compared to the general population; those over-represented clusters will be assumed to be part of the core userbase. This information can then be used for further applications, such as targeting for a marketing campaign.\n",
    "\n",
    "To start off with, load in the demographics data for the general population into a pandas DataFrame, and do the same for the feature attributes summary. Note for all of the `.csv` data files in this project: they're semicolon (`;`) delimited, so you'll need an additional argument in your [`read_csv()`](https://pandas.pydata.org/pandas-docs/stable/generated/pandas.read_csv.html) call to read in the data properly. Also, considering the size of the main dataset, it may take some time for it to load completely.\n",
    "\n",
    "Once the dataset is loaded, it's recommended that you take a little bit of time just browsing the general structure of the dataset and feature summary file. You'll be getting deep into the innards of the cleaning in the first major step of the project, so gaining some general familiarity can help you get your bearings."
   ]
  },
  {
   "cell_type": "code",
   "execution_count": 2,
   "metadata": {},
   "outputs": [],
   "source": [
    "# Load in the general demographics data.\n",
    "azdias = pd.read_csv('Udacity_AZDIAS_Subset.csv',delimiter=';')\n",
    "\n",
    "# Load in the feature summary file.\n",
    "feat_info = pd.read_csv('AZDIAS_Feature_Summary.csv',delimiter=';')"
   ]
  },
  {
   "cell_type": "code",
   "execution_count": 3,
   "metadata": {},
   "outputs": [
    {
     "name": "stdout",
     "output_type": "stream",
     "text": [
      "(891221, 85)\n"
     ]
    },
    {
     "data": {
      "text/html": [
       "<div>\n",
       "<style scoped>\n",
       "    .dataframe tbody tr th:only-of-type {\n",
       "        vertical-align: middle;\n",
       "    }\n",
       "\n",
       "    .dataframe tbody tr th {\n",
       "        vertical-align: top;\n",
       "    }\n",
       "\n",
       "    .dataframe thead th {\n",
       "        text-align: right;\n",
       "    }\n",
       "</style>\n",
       "<table border=\"1\" class=\"dataframe\">\n",
       "  <thead>\n",
       "    <tr style=\"text-align: right;\">\n",
       "      <th></th>\n",
       "      <th>AGER_TYP</th>\n",
       "      <th>ALTERSKATEGORIE_GROB</th>\n",
       "      <th>ANREDE_KZ</th>\n",
       "      <th>CJT_GESAMTTYP</th>\n",
       "      <th>FINANZ_MINIMALIST</th>\n",
       "      <th>FINANZ_SPARER</th>\n",
       "      <th>FINANZ_VORSORGER</th>\n",
       "      <th>FINANZ_ANLEGER</th>\n",
       "      <th>FINANZ_UNAUFFAELLIGER</th>\n",
       "      <th>FINANZ_HAUSBAUER</th>\n",
       "      <th>...</th>\n",
       "      <th>PLZ8_ANTG1</th>\n",
       "      <th>PLZ8_ANTG2</th>\n",
       "      <th>PLZ8_ANTG3</th>\n",
       "      <th>PLZ8_ANTG4</th>\n",
       "      <th>PLZ8_BAUMAX</th>\n",
       "      <th>PLZ8_HHZ</th>\n",
       "      <th>PLZ8_GBZ</th>\n",
       "      <th>ARBEIT</th>\n",
       "      <th>ORTSGR_KLS9</th>\n",
       "      <th>RELAT_AB</th>\n",
       "    </tr>\n",
       "  </thead>\n",
       "  <tbody>\n",
       "    <tr>\n",
       "      <th>0</th>\n",
       "      <td>-1</td>\n",
       "      <td>2</td>\n",
       "      <td>1</td>\n",
       "      <td>2.0</td>\n",
       "      <td>3</td>\n",
       "      <td>4</td>\n",
       "      <td>3</td>\n",
       "      <td>5</td>\n",
       "      <td>5</td>\n",
       "      <td>3</td>\n",
       "      <td>...</td>\n",
       "      <td>NaN</td>\n",
       "      <td>NaN</td>\n",
       "      <td>NaN</td>\n",
       "      <td>NaN</td>\n",
       "      <td>NaN</td>\n",
       "      <td>NaN</td>\n",
       "      <td>NaN</td>\n",
       "      <td>NaN</td>\n",
       "      <td>NaN</td>\n",
       "      <td>NaN</td>\n",
       "    </tr>\n",
       "    <tr>\n",
       "      <th>1</th>\n",
       "      <td>-1</td>\n",
       "      <td>1</td>\n",
       "      <td>2</td>\n",
       "      <td>5.0</td>\n",
       "      <td>1</td>\n",
       "      <td>5</td>\n",
       "      <td>2</td>\n",
       "      <td>5</td>\n",
       "      <td>4</td>\n",
       "      <td>5</td>\n",
       "      <td>...</td>\n",
       "      <td>2.0</td>\n",
       "      <td>3.0</td>\n",
       "      <td>2.0</td>\n",
       "      <td>1.0</td>\n",
       "      <td>1.0</td>\n",
       "      <td>5.0</td>\n",
       "      <td>4.0</td>\n",
       "      <td>3.0</td>\n",
       "      <td>5.0</td>\n",
       "      <td>4.0</td>\n",
       "    </tr>\n",
       "    <tr>\n",
       "      <th>2</th>\n",
       "      <td>-1</td>\n",
       "      <td>3</td>\n",
       "      <td>2</td>\n",
       "      <td>3.0</td>\n",
       "      <td>1</td>\n",
       "      <td>4</td>\n",
       "      <td>1</td>\n",
       "      <td>2</td>\n",
       "      <td>3</td>\n",
       "      <td>5</td>\n",
       "      <td>...</td>\n",
       "      <td>3.0</td>\n",
       "      <td>3.0</td>\n",
       "      <td>1.0</td>\n",
       "      <td>0.0</td>\n",
       "      <td>1.0</td>\n",
       "      <td>4.0</td>\n",
       "      <td>4.0</td>\n",
       "      <td>3.0</td>\n",
       "      <td>5.0</td>\n",
       "      <td>2.0</td>\n",
       "    </tr>\n",
       "    <tr>\n",
       "      <th>3</th>\n",
       "      <td>2</td>\n",
       "      <td>4</td>\n",
       "      <td>2</td>\n",
       "      <td>2.0</td>\n",
       "      <td>4</td>\n",
       "      <td>2</td>\n",
       "      <td>5</td>\n",
       "      <td>2</td>\n",
       "      <td>1</td>\n",
       "      <td>2</td>\n",
       "      <td>...</td>\n",
       "      <td>2.0</td>\n",
       "      <td>2.0</td>\n",
       "      <td>2.0</td>\n",
       "      <td>0.0</td>\n",
       "      <td>1.0</td>\n",
       "      <td>3.0</td>\n",
       "      <td>4.0</td>\n",
       "      <td>2.0</td>\n",
       "      <td>3.0</td>\n",
       "      <td>3.0</td>\n",
       "    </tr>\n",
       "    <tr>\n",
       "      <th>4</th>\n",
       "      <td>-1</td>\n",
       "      <td>3</td>\n",
       "      <td>1</td>\n",
       "      <td>5.0</td>\n",
       "      <td>4</td>\n",
       "      <td>3</td>\n",
       "      <td>4</td>\n",
       "      <td>1</td>\n",
       "      <td>3</td>\n",
       "      <td>2</td>\n",
       "      <td>...</td>\n",
       "      <td>2.0</td>\n",
       "      <td>4.0</td>\n",
       "      <td>2.0</td>\n",
       "      <td>1.0</td>\n",
       "      <td>2.0</td>\n",
       "      <td>3.0</td>\n",
       "      <td>3.0</td>\n",
       "      <td>4.0</td>\n",
       "      <td>6.0</td>\n",
       "      <td>5.0</td>\n",
       "    </tr>\n",
       "  </tbody>\n",
       "</table>\n",
       "<p>5 rows × 85 columns</p>\n",
       "</div>"
      ],
      "text/plain": [
       "   AGER_TYP  ALTERSKATEGORIE_GROB  ANREDE_KZ  CJT_GESAMTTYP  \\\n",
       "0        -1                     2          1            2.0   \n",
       "1        -1                     1          2            5.0   \n",
       "2        -1                     3          2            3.0   \n",
       "3         2                     4          2            2.0   \n",
       "4        -1                     3          1            5.0   \n",
       "\n",
       "   FINANZ_MINIMALIST  FINANZ_SPARER  FINANZ_VORSORGER  FINANZ_ANLEGER  \\\n",
       "0                  3              4                 3               5   \n",
       "1                  1              5                 2               5   \n",
       "2                  1              4                 1               2   \n",
       "3                  4              2                 5               2   \n",
       "4                  4              3                 4               1   \n",
       "\n",
       "   FINANZ_UNAUFFAELLIGER  FINANZ_HAUSBAUER    ...     PLZ8_ANTG1  PLZ8_ANTG2  \\\n",
       "0                      5                 3    ...            NaN         NaN   \n",
       "1                      4                 5    ...            2.0         3.0   \n",
       "2                      3                 5    ...            3.0         3.0   \n",
       "3                      1                 2    ...            2.0         2.0   \n",
       "4                      3                 2    ...            2.0         4.0   \n",
       "\n",
       "   PLZ8_ANTG3  PLZ8_ANTG4  PLZ8_BAUMAX  PLZ8_HHZ  PLZ8_GBZ  ARBEIT  \\\n",
       "0         NaN         NaN          NaN       NaN       NaN     NaN   \n",
       "1         2.0         1.0          1.0       5.0       4.0     3.0   \n",
       "2         1.0         0.0          1.0       4.0       4.0     3.0   \n",
       "3         2.0         0.0          1.0       3.0       4.0     2.0   \n",
       "4         2.0         1.0          2.0       3.0       3.0     4.0   \n",
       "\n",
       "   ORTSGR_KLS9  RELAT_AB  \n",
       "0          NaN       NaN  \n",
       "1          5.0       4.0  \n",
       "2          5.0       2.0  \n",
       "3          3.0       3.0  \n",
       "4          6.0       5.0  \n",
       "\n",
       "[5 rows x 85 columns]"
      ]
     },
     "execution_count": 3,
     "metadata": {},
     "output_type": "execute_result"
    }
   ],
   "source": [
    "# Check the structure of the data after it's loaded (e.g. print the number of\n",
    "# rows and columns, print the first few rows).\n",
    "print(azdias.shape)\n",
    "azdias.head()"
   ]
  },
  {
   "cell_type": "code",
   "execution_count": 89,
   "metadata": {
    "scrolled": true
   },
   "outputs": [
    {
     "name": "stdout",
     "output_type": "stream",
     "text": [
      "(85, 4)\n"
     ]
    },
    {
     "data": {
      "text/html": [
       "<div>\n",
       "<style scoped>\n",
       "    .dataframe tbody tr th:only-of-type {\n",
       "        vertical-align: middle;\n",
       "    }\n",
       "\n",
       "    .dataframe tbody tr th {\n",
       "        vertical-align: top;\n",
       "    }\n",
       "\n",
       "    .dataframe thead th {\n",
       "        text-align: right;\n",
       "    }\n",
       "</style>\n",
       "<table border=\"1\" class=\"dataframe\">\n",
       "  <thead>\n",
       "    <tr style=\"text-align: right;\">\n",
       "      <th></th>\n",
       "      <th>attribute</th>\n",
       "      <th>information_level</th>\n",
       "      <th>type</th>\n",
       "      <th>missing_or_unknown</th>\n",
       "    </tr>\n",
       "  </thead>\n",
       "  <tbody>\n",
       "    <tr>\n",
       "      <th>0</th>\n",
       "      <td>AGER_TYP</td>\n",
       "      <td>person</td>\n",
       "      <td>categorical</td>\n",
       "      <td>[-1,0]</td>\n",
       "    </tr>\n",
       "    <tr>\n",
       "      <th>1</th>\n",
       "      <td>ALTERSKATEGORIE_GROB</td>\n",
       "      <td>person</td>\n",
       "      <td>ordinal</td>\n",
       "      <td>[-1,0,9]</td>\n",
       "    </tr>\n",
       "    <tr>\n",
       "      <th>2</th>\n",
       "      <td>ANREDE_KZ</td>\n",
       "      <td>person</td>\n",
       "      <td>categorical</td>\n",
       "      <td>[-1,0]</td>\n",
       "    </tr>\n",
       "    <tr>\n",
       "      <th>3</th>\n",
       "      <td>CJT_GESAMTTYP</td>\n",
       "      <td>person</td>\n",
       "      <td>categorical</td>\n",
       "      <td>[0]</td>\n",
       "    </tr>\n",
       "    <tr>\n",
       "      <th>4</th>\n",
       "      <td>FINANZ_MINIMALIST</td>\n",
       "      <td>person</td>\n",
       "      <td>ordinal</td>\n",
       "      <td>[-1]</td>\n",
       "    </tr>\n",
       "  </tbody>\n",
       "</table>\n",
       "</div>"
      ],
      "text/plain": [
       "              attribute information_level         type missing_or_unknown\n",
       "0              AGER_TYP            person  categorical             [-1,0]\n",
       "1  ALTERSKATEGORIE_GROB            person      ordinal           [-1,0,9]\n",
       "2             ANREDE_KZ            person  categorical             [-1,0]\n",
       "3         CJT_GESAMTTYP            person  categorical                [0]\n",
       "4     FINANZ_MINIMALIST            person      ordinal               [-1]"
      ]
     },
     "execution_count": 89,
     "metadata": {},
     "output_type": "execute_result"
    }
   ],
   "source": [
    "print(feat_info.shape)\n",
    "feat_info.head()"
   ]
  },
  {
   "cell_type": "markdown",
   "metadata": {},
   "source": [
    "> **Tip**: Add additional cells to keep everything in reasonably-sized chunks! Keyboard shortcut `esc --> a` (press escape to enter command mode, then press the 'A' key) adds a new cell before the active cell, and `esc --> b` adds a new cell after the active cell. If you need to convert an active cell to a markdown cell, use `esc --> m` and to convert to a code cell, use `esc --> y`. \n",
    "\n",
    "## Step 1: Preprocessing\n",
    "\n",
    "### Step 1.1: Assess Missing Data\n",
    "\n",
    "The feature summary file contains a summary of properties for each demographics data column. You will use this file to help you make cleaning decisions during this stage of the project. First of all, you should assess the demographics data in terms of missing data. Pay attention to the following points as you perform your analysis, and take notes on what you observe. Make sure that you fill in the **Discussion** cell with your findings and decisions at the end of each step that has one!\n",
    "\n",
    "#### Step 1.1.1: Convert Missing Value Codes to NaNs\n",
    "The fourth column of the feature attributes summary (loaded in above as `feat_info`) documents the codes from the data dictionary that indicate missing or unknown data. While the file encodes this as a list (e.g. `[-1,0]`), this will get read in as a string object. You'll need to do a little bit of parsing to make use of it to identify and clean the data. Convert data that matches a 'missing' or 'unknown' value code into a numpy NaN value. You might want to see how much data takes on a 'missing' or 'unknown' code, and how much data is naturally missing, as a point of interest.\n",
    "\n",
    "**As one more reminder, you are encouraged to add additional cells to break up your analysis into manageable chunks.**"
   ]
  },
  {
   "cell_type": "code",
   "execution_count": 4,
   "metadata": {},
   "outputs": [
    {
     "name": "stderr",
     "output_type": "stream",
     "text": [
      "/opt/conda/lib/python3.6/site-packages/pandas/core/generic.py:5890: SettingWithCopyWarning: \n",
      "A value is trying to be set on a copy of a slice from a DataFrame\n",
      "\n",
      "See the caveats in the documentation: http://pandas.pydata.org/pandas-docs/stable/indexing.html#indexing-view-versus-copy\n",
      "  self._update_inplace(new_data)\n"
     ]
    }
   ],
   "source": [
    "# Identify missing or unknown data values and convert them to NaNs.\n",
    "\n",
    "# function to change a string in to a list\n",
    "def string_to_list(string):\n",
    "    keywords_list = []\n",
    "    string_list = list(string[1:-1].split(\",\"))\n",
    "    for i in string_list:\n",
    "        try:\n",
    "            keywords_list.append(int(i))\n",
    "        except:\n",
    "            keywords_list.append(i)\n",
    "    return keywords_list\n",
    "\n",
    "# add a new column in feat_info containing int or str indicating missing/unknown element\n",
    "feat_info['NA_tags'] = feat_info['missing_or_unknown'].apply(string_to_list)\n",
    "feat_info.head()\n",
    "\n",
    "# changeindex into attribute\n",
    "att_index = feat_info.set_index('attribute')\n",
    "\n",
    "# make a new copy of data\n",
    "na_azdias = azdias[:]\n",
    "\n",
    "# replace the missing/unknown element to NaN\n",
    "for column in na_azdias.columns:\n",
    "    na_azdias[column].replace(att_index.loc[column].loc['NA_tags'],np.NaN,inplace=True)\n",
    "    "
   ]
  },
  {
   "cell_type": "code",
   "execution_count": 91,
   "metadata": {},
   "outputs": [
    {
     "data": {
      "text/html": [
       "<div>\n",
       "<style scoped>\n",
       "    .dataframe tbody tr th:only-of-type {\n",
       "        vertical-align: middle;\n",
       "    }\n",
       "\n",
       "    .dataframe tbody tr th {\n",
       "        vertical-align: top;\n",
       "    }\n",
       "\n",
       "    .dataframe thead th {\n",
       "        text-align: right;\n",
       "    }\n",
       "</style>\n",
       "<table border=\"1\" class=\"dataframe\">\n",
       "  <thead>\n",
       "    <tr style=\"text-align: right;\">\n",
       "      <th></th>\n",
       "      <th>AGER_TYP</th>\n",
       "      <th>ALTERSKATEGORIE_GROB</th>\n",
       "      <th>ANREDE_KZ</th>\n",
       "      <th>CJT_GESAMTTYP</th>\n",
       "      <th>FINANZ_MINIMALIST</th>\n",
       "      <th>FINANZ_SPARER</th>\n",
       "      <th>FINANZ_VORSORGER</th>\n",
       "      <th>FINANZ_ANLEGER</th>\n",
       "      <th>FINANZ_UNAUFFAELLIGER</th>\n",
       "      <th>FINANZ_HAUSBAUER</th>\n",
       "      <th>...</th>\n",
       "      <th>PLZ8_ANTG1</th>\n",
       "      <th>PLZ8_ANTG2</th>\n",
       "      <th>PLZ8_ANTG3</th>\n",
       "      <th>PLZ8_ANTG4</th>\n",
       "      <th>PLZ8_BAUMAX</th>\n",
       "      <th>PLZ8_HHZ</th>\n",
       "      <th>PLZ8_GBZ</th>\n",
       "      <th>ARBEIT</th>\n",
       "      <th>ORTSGR_KLS9</th>\n",
       "      <th>RELAT_AB</th>\n",
       "    </tr>\n",
       "  </thead>\n",
       "  <tbody>\n",
       "    <tr>\n",
       "      <th>0</th>\n",
       "      <td>NaN</td>\n",
       "      <td>2.0</td>\n",
       "      <td>1</td>\n",
       "      <td>2.0</td>\n",
       "      <td>3</td>\n",
       "      <td>4</td>\n",
       "      <td>3</td>\n",
       "      <td>5</td>\n",
       "      <td>5</td>\n",
       "      <td>3</td>\n",
       "      <td>...</td>\n",
       "      <td>NaN</td>\n",
       "      <td>NaN</td>\n",
       "      <td>NaN</td>\n",
       "      <td>NaN</td>\n",
       "      <td>NaN</td>\n",
       "      <td>NaN</td>\n",
       "      <td>NaN</td>\n",
       "      <td>NaN</td>\n",
       "      <td>NaN</td>\n",
       "      <td>NaN</td>\n",
       "    </tr>\n",
       "    <tr>\n",
       "      <th>1</th>\n",
       "      <td>NaN</td>\n",
       "      <td>1.0</td>\n",
       "      <td>2</td>\n",
       "      <td>5.0</td>\n",
       "      <td>1</td>\n",
       "      <td>5</td>\n",
       "      <td>2</td>\n",
       "      <td>5</td>\n",
       "      <td>4</td>\n",
       "      <td>5</td>\n",
       "      <td>...</td>\n",
       "      <td>2.0</td>\n",
       "      <td>3.0</td>\n",
       "      <td>2.0</td>\n",
       "      <td>1.0</td>\n",
       "      <td>1.0</td>\n",
       "      <td>5.0</td>\n",
       "      <td>4.0</td>\n",
       "      <td>3.0</td>\n",
       "      <td>5.0</td>\n",
       "      <td>4.0</td>\n",
       "    </tr>\n",
       "    <tr>\n",
       "      <th>2</th>\n",
       "      <td>NaN</td>\n",
       "      <td>3.0</td>\n",
       "      <td>2</td>\n",
       "      <td>3.0</td>\n",
       "      <td>1</td>\n",
       "      <td>4</td>\n",
       "      <td>1</td>\n",
       "      <td>2</td>\n",
       "      <td>3</td>\n",
       "      <td>5</td>\n",
       "      <td>...</td>\n",
       "      <td>3.0</td>\n",
       "      <td>3.0</td>\n",
       "      <td>1.0</td>\n",
       "      <td>0.0</td>\n",
       "      <td>1.0</td>\n",
       "      <td>4.0</td>\n",
       "      <td>4.0</td>\n",
       "      <td>3.0</td>\n",
       "      <td>5.0</td>\n",
       "      <td>2.0</td>\n",
       "    </tr>\n",
       "    <tr>\n",
       "      <th>3</th>\n",
       "      <td>2.0</td>\n",
       "      <td>4.0</td>\n",
       "      <td>2</td>\n",
       "      <td>2.0</td>\n",
       "      <td>4</td>\n",
       "      <td>2</td>\n",
       "      <td>5</td>\n",
       "      <td>2</td>\n",
       "      <td>1</td>\n",
       "      <td>2</td>\n",
       "      <td>...</td>\n",
       "      <td>2.0</td>\n",
       "      <td>2.0</td>\n",
       "      <td>2.0</td>\n",
       "      <td>0.0</td>\n",
       "      <td>1.0</td>\n",
       "      <td>3.0</td>\n",
       "      <td>4.0</td>\n",
       "      <td>2.0</td>\n",
       "      <td>3.0</td>\n",
       "      <td>3.0</td>\n",
       "    </tr>\n",
       "    <tr>\n",
       "      <th>4</th>\n",
       "      <td>NaN</td>\n",
       "      <td>3.0</td>\n",
       "      <td>1</td>\n",
       "      <td>5.0</td>\n",
       "      <td>4</td>\n",
       "      <td>3</td>\n",
       "      <td>4</td>\n",
       "      <td>1</td>\n",
       "      <td>3</td>\n",
       "      <td>2</td>\n",
       "      <td>...</td>\n",
       "      <td>2.0</td>\n",
       "      <td>4.0</td>\n",
       "      <td>2.0</td>\n",
       "      <td>1.0</td>\n",
       "      <td>2.0</td>\n",
       "      <td>3.0</td>\n",
       "      <td>3.0</td>\n",
       "      <td>4.0</td>\n",
       "      <td>6.0</td>\n",
       "      <td>5.0</td>\n",
       "    </tr>\n",
       "    <tr>\n",
       "      <th>5</th>\n",
       "      <td>3.0</td>\n",
       "      <td>1.0</td>\n",
       "      <td>2</td>\n",
       "      <td>2.0</td>\n",
       "      <td>3</td>\n",
       "      <td>1</td>\n",
       "      <td>5</td>\n",
       "      <td>2</td>\n",
       "      <td>2</td>\n",
       "      <td>5</td>\n",
       "      <td>...</td>\n",
       "      <td>2.0</td>\n",
       "      <td>3.0</td>\n",
       "      <td>1.0</td>\n",
       "      <td>1.0</td>\n",
       "      <td>1.0</td>\n",
       "      <td>5.0</td>\n",
       "      <td>5.0</td>\n",
       "      <td>2.0</td>\n",
       "      <td>3.0</td>\n",
       "      <td>3.0</td>\n",
       "    </tr>\n",
       "    <tr>\n",
       "      <th>6</th>\n",
       "      <td>NaN</td>\n",
       "      <td>2.0</td>\n",
       "      <td>2</td>\n",
       "      <td>5.0</td>\n",
       "      <td>1</td>\n",
       "      <td>5</td>\n",
       "      <td>1</td>\n",
       "      <td>5</td>\n",
       "      <td>4</td>\n",
       "      <td>3</td>\n",
       "      <td>...</td>\n",
       "      <td>3.0</td>\n",
       "      <td>3.0</td>\n",
       "      <td>1.0</td>\n",
       "      <td>0.0</td>\n",
       "      <td>1.0</td>\n",
       "      <td>5.0</td>\n",
       "      <td>5.0</td>\n",
       "      <td>4.0</td>\n",
       "      <td>6.0</td>\n",
       "      <td>3.0</td>\n",
       "    </tr>\n",
       "    <tr>\n",
       "      <th>7</th>\n",
       "      <td>NaN</td>\n",
       "      <td>1.0</td>\n",
       "      <td>1</td>\n",
       "      <td>3.0</td>\n",
       "      <td>3</td>\n",
       "      <td>3</td>\n",
       "      <td>4</td>\n",
       "      <td>1</td>\n",
       "      <td>3</td>\n",
       "      <td>2</td>\n",
       "      <td>...</td>\n",
       "      <td>3.0</td>\n",
       "      <td>3.0</td>\n",
       "      <td>1.0</td>\n",
       "      <td>0.0</td>\n",
       "      <td>1.0</td>\n",
       "      <td>4.0</td>\n",
       "      <td>4.0</td>\n",
       "      <td>2.0</td>\n",
       "      <td>5.0</td>\n",
       "      <td>2.0</td>\n",
       "    </tr>\n",
       "    <tr>\n",
       "      <th>8</th>\n",
       "      <td>NaN</td>\n",
       "      <td>3.0</td>\n",
       "      <td>1</td>\n",
       "      <td>3.0</td>\n",
       "      <td>4</td>\n",
       "      <td>4</td>\n",
       "      <td>2</td>\n",
       "      <td>4</td>\n",
       "      <td>2</td>\n",
       "      <td>2</td>\n",
       "      <td>...</td>\n",
       "      <td>2.0</td>\n",
       "      <td>3.0</td>\n",
       "      <td>2.0</td>\n",
       "      <td>1.0</td>\n",
       "      <td>1.0</td>\n",
       "      <td>3.0</td>\n",
       "      <td>3.0</td>\n",
       "      <td>2.0</td>\n",
       "      <td>4.0</td>\n",
       "      <td>3.0</td>\n",
       "    </tr>\n",
       "    <tr>\n",
       "      <th>9</th>\n",
       "      <td>NaN</td>\n",
       "      <td>3.0</td>\n",
       "      <td>2</td>\n",
       "      <td>4.0</td>\n",
       "      <td>2</td>\n",
       "      <td>4</td>\n",
       "      <td>2</td>\n",
       "      <td>3</td>\n",
       "      <td>5</td>\n",
       "      <td>4</td>\n",
       "      <td>...</td>\n",
       "      <td>2.0</td>\n",
       "      <td>3.0</td>\n",
       "      <td>2.0</td>\n",
       "      <td>1.0</td>\n",
       "      <td>1.0</td>\n",
       "      <td>3.0</td>\n",
       "      <td>3.0</td>\n",
       "      <td>2.0</td>\n",
       "      <td>3.0</td>\n",
       "      <td>1.0</td>\n",
       "    </tr>\n",
       "    <tr>\n",
       "      <th>10</th>\n",
       "      <td>NaN</td>\n",
       "      <td>3.0</td>\n",
       "      <td>2</td>\n",
       "      <td>1.0</td>\n",
       "      <td>2</td>\n",
       "      <td>2</td>\n",
       "      <td>5</td>\n",
       "      <td>3</td>\n",
       "      <td>1</td>\n",
       "      <td>5</td>\n",
       "      <td>...</td>\n",
       "      <td>2.0</td>\n",
       "      <td>4.0</td>\n",
       "      <td>2.0</td>\n",
       "      <td>0.0</td>\n",
       "      <td>2.0</td>\n",
       "      <td>3.0</td>\n",
       "      <td>3.0</td>\n",
       "      <td>4.0</td>\n",
       "      <td>6.0</td>\n",
       "      <td>5.0</td>\n",
       "    </tr>\n",
       "    <tr>\n",
       "      <th>11</th>\n",
       "      <td>NaN</td>\n",
       "      <td>2.0</td>\n",
       "      <td>1</td>\n",
       "      <td>6.0</td>\n",
       "      <td>3</td>\n",
       "      <td>4</td>\n",
       "      <td>3</td>\n",
       "      <td>5</td>\n",
       "      <td>5</td>\n",
       "      <td>3</td>\n",
       "      <td>...</td>\n",
       "      <td>NaN</td>\n",
       "      <td>NaN</td>\n",
       "      <td>NaN</td>\n",
       "      <td>NaN</td>\n",
       "      <td>NaN</td>\n",
       "      <td>NaN</td>\n",
       "      <td>NaN</td>\n",
       "      <td>NaN</td>\n",
       "      <td>NaN</td>\n",
       "      <td>NaN</td>\n",
       "    </tr>\n",
       "    <tr>\n",
       "      <th>12</th>\n",
       "      <td>NaN</td>\n",
       "      <td>3.0</td>\n",
       "      <td>1</td>\n",
       "      <td>6.0</td>\n",
       "      <td>5</td>\n",
       "      <td>3</td>\n",
       "      <td>4</td>\n",
       "      <td>2</td>\n",
       "      <td>4</td>\n",
       "      <td>1</td>\n",
       "      <td>...</td>\n",
       "      <td>3.0</td>\n",
       "      <td>3.0</td>\n",
       "      <td>1.0</td>\n",
       "      <td>0.0</td>\n",
       "      <td>1.0</td>\n",
       "      <td>5.0</td>\n",
       "      <td>5.0</td>\n",
       "      <td>3.0</td>\n",
       "      <td>6.0</td>\n",
       "      <td>4.0</td>\n",
       "    </tr>\n",
       "    <tr>\n",
       "      <th>13</th>\n",
       "      <td>NaN</td>\n",
       "      <td>1.0</td>\n",
       "      <td>2</td>\n",
       "      <td>5.0</td>\n",
       "      <td>1</td>\n",
       "      <td>4</td>\n",
       "      <td>3</td>\n",
       "      <td>5</td>\n",
       "      <td>5</td>\n",
       "      <td>2</td>\n",
       "      <td>...</td>\n",
       "      <td>2.0</td>\n",
       "      <td>1.0</td>\n",
       "      <td>1.0</td>\n",
       "      <td>1.0</td>\n",
       "      <td>1.0</td>\n",
       "      <td>3.0</td>\n",
       "      <td>3.0</td>\n",
       "      <td>3.0</td>\n",
       "      <td>6.0</td>\n",
       "      <td>4.0</td>\n",
       "    </tr>\n",
       "    <tr>\n",
       "      <th>14</th>\n",
       "      <td>NaN</td>\n",
       "      <td>3.0</td>\n",
       "      <td>1</td>\n",
       "      <td>6.0</td>\n",
       "      <td>3</td>\n",
       "      <td>4</td>\n",
       "      <td>3</td>\n",
       "      <td>5</td>\n",
       "      <td>5</td>\n",
       "      <td>3</td>\n",
       "      <td>...</td>\n",
       "      <td>NaN</td>\n",
       "      <td>NaN</td>\n",
       "      <td>NaN</td>\n",
       "      <td>NaN</td>\n",
       "      <td>NaN</td>\n",
       "      <td>NaN</td>\n",
       "      <td>NaN</td>\n",
       "      <td>NaN</td>\n",
       "      <td>NaN</td>\n",
       "      <td>NaN</td>\n",
       "    </tr>\n",
       "    <tr>\n",
       "      <th>15</th>\n",
       "      <td>1.0</td>\n",
       "      <td>4.0</td>\n",
       "      <td>2</td>\n",
       "      <td>4.0</td>\n",
       "      <td>4</td>\n",
       "      <td>1</td>\n",
       "      <td>5</td>\n",
       "      <td>1</td>\n",
       "      <td>1</td>\n",
       "      <td>4</td>\n",
       "      <td>...</td>\n",
       "      <td>NaN</td>\n",
       "      <td>NaN</td>\n",
       "      <td>NaN</td>\n",
       "      <td>NaN</td>\n",
       "      <td>NaN</td>\n",
       "      <td>NaN</td>\n",
       "      <td>NaN</td>\n",
       "      <td>4.0</td>\n",
       "      <td>8.0</td>\n",
       "      <td>5.0</td>\n",
       "    </tr>\n",
       "    <tr>\n",
       "      <th>16</th>\n",
       "      <td>NaN</td>\n",
       "      <td>1.0</td>\n",
       "      <td>2</td>\n",
       "      <td>1.0</td>\n",
       "      <td>4</td>\n",
       "      <td>3</td>\n",
       "      <td>1</td>\n",
       "      <td>4</td>\n",
       "      <td>5</td>\n",
       "      <td>1</td>\n",
       "      <td>...</td>\n",
       "      <td>3.0</td>\n",
       "      <td>3.0</td>\n",
       "      <td>1.0</td>\n",
       "      <td>0.0</td>\n",
       "      <td>1.0</td>\n",
       "      <td>3.0</td>\n",
       "      <td>4.0</td>\n",
       "      <td>1.0</td>\n",
       "      <td>2.0</td>\n",
       "      <td>1.0</td>\n",
       "    </tr>\n",
       "    <tr>\n",
       "      <th>17</th>\n",
       "      <td>NaN</td>\n",
       "      <td>2.0</td>\n",
       "      <td>1</td>\n",
       "      <td>6.0</td>\n",
       "      <td>3</td>\n",
       "      <td>4</td>\n",
       "      <td>3</td>\n",
       "      <td>5</td>\n",
       "      <td>5</td>\n",
       "      <td>3</td>\n",
       "      <td>...</td>\n",
       "      <td>NaN</td>\n",
       "      <td>NaN</td>\n",
       "      <td>NaN</td>\n",
       "      <td>NaN</td>\n",
       "      <td>NaN</td>\n",
       "      <td>NaN</td>\n",
       "      <td>NaN</td>\n",
       "      <td>NaN</td>\n",
       "      <td>NaN</td>\n",
       "      <td>NaN</td>\n",
       "    </tr>\n",
       "    <tr>\n",
       "      <th>18</th>\n",
       "      <td>NaN</td>\n",
       "      <td>2.0</td>\n",
       "      <td>2</td>\n",
       "      <td>6.0</td>\n",
       "      <td>2</td>\n",
       "      <td>4</td>\n",
       "      <td>1</td>\n",
       "      <td>5</td>\n",
       "      <td>4</td>\n",
       "      <td>1</td>\n",
       "      <td>...</td>\n",
       "      <td>2.0</td>\n",
       "      <td>3.0</td>\n",
       "      <td>2.0</td>\n",
       "      <td>1.0</td>\n",
       "      <td>1.0</td>\n",
       "      <td>3.0</td>\n",
       "      <td>3.0</td>\n",
       "      <td>3.0</td>\n",
       "      <td>4.0</td>\n",
       "      <td>3.0</td>\n",
       "    </tr>\n",
       "    <tr>\n",
       "      <th>19</th>\n",
       "      <td>NaN</td>\n",
       "      <td>3.0</td>\n",
       "      <td>1</td>\n",
       "      <td>3.0</td>\n",
       "      <td>5</td>\n",
       "      <td>2</td>\n",
       "      <td>3</td>\n",
       "      <td>1</td>\n",
       "      <td>3</td>\n",
       "      <td>1</td>\n",
       "      <td>...</td>\n",
       "      <td>2.0</td>\n",
       "      <td>4.0</td>\n",
       "      <td>2.0</td>\n",
       "      <td>1.0</td>\n",
       "      <td>2.0</td>\n",
       "      <td>5.0</td>\n",
       "      <td>4.0</td>\n",
       "      <td>4.0</td>\n",
       "      <td>6.0</td>\n",
       "      <td>3.0</td>\n",
       "    </tr>\n",
       "  </tbody>\n",
       "</table>\n",
       "<p>20 rows × 85 columns</p>\n",
       "</div>"
      ],
      "text/plain": [
       "    AGER_TYP  ALTERSKATEGORIE_GROB  ANREDE_KZ  CJT_GESAMTTYP  \\\n",
       "0        NaN                   2.0          1            2.0   \n",
       "1        NaN                   1.0          2            5.0   \n",
       "2        NaN                   3.0          2            3.0   \n",
       "3        2.0                   4.0          2            2.0   \n",
       "4        NaN                   3.0          1            5.0   \n",
       "5        3.0                   1.0          2            2.0   \n",
       "6        NaN                   2.0          2            5.0   \n",
       "7        NaN                   1.0          1            3.0   \n",
       "8        NaN                   3.0          1            3.0   \n",
       "9        NaN                   3.0          2            4.0   \n",
       "10       NaN                   3.0          2            1.0   \n",
       "11       NaN                   2.0          1            6.0   \n",
       "12       NaN                   3.0          1            6.0   \n",
       "13       NaN                   1.0          2            5.0   \n",
       "14       NaN                   3.0          1            6.0   \n",
       "15       1.0                   4.0          2            4.0   \n",
       "16       NaN                   1.0          2            1.0   \n",
       "17       NaN                   2.0          1            6.0   \n",
       "18       NaN                   2.0          2            6.0   \n",
       "19       NaN                   3.0          1            3.0   \n",
       "\n",
       "    FINANZ_MINIMALIST  FINANZ_SPARER  FINANZ_VORSORGER  FINANZ_ANLEGER  \\\n",
       "0                   3              4                 3               5   \n",
       "1                   1              5                 2               5   \n",
       "2                   1              4                 1               2   \n",
       "3                   4              2                 5               2   \n",
       "4                   4              3                 4               1   \n",
       "5                   3              1                 5               2   \n",
       "6                   1              5                 1               5   \n",
       "7                   3              3                 4               1   \n",
       "8                   4              4                 2               4   \n",
       "9                   2              4                 2               3   \n",
       "10                  2              2                 5               3   \n",
       "11                  3              4                 3               5   \n",
       "12                  5              3                 4               2   \n",
       "13                  1              4                 3               5   \n",
       "14                  3              4                 3               5   \n",
       "15                  4              1                 5               1   \n",
       "16                  4              3                 1               4   \n",
       "17                  3              4                 3               5   \n",
       "18                  2              4                 1               5   \n",
       "19                  5              2                 3               1   \n",
       "\n",
       "    FINANZ_UNAUFFAELLIGER  FINANZ_HAUSBAUER    ...     PLZ8_ANTG1  PLZ8_ANTG2  \\\n",
       "0                       5                 3    ...            NaN         NaN   \n",
       "1                       4                 5    ...            2.0         3.0   \n",
       "2                       3                 5    ...            3.0         3.0   \n",
       "3                       1                 2    ...            2.0         2.0   \n",
       "4                       3                 2    ...            2.0         4.0   \n",
       "5                       2                 5    ...            2.0         3.0   \n",
       "6                       4                 3    ...            3.0         3.0   \n",
       "7                       3                 2    ...            3.0         3.0   \n",
       "8                       2                 2    ...            2.0         3.0   \n",
       "9                       5                 4    ...            2.0         3.0   \n",
       "10                      1                 5    ...            2.0         4.0   \n",
       "11                      5                 3    ...            NaN         NaN   \n",
       "12                      4                 1    ...            3.0         3.0   \n",
       "13                      5                 2    ...            2.0         1.0   \n",
       "14                      5                 3    ...            NaN         NaN   \n",
       "15                      1                 4    ...            NaN         NaN   \n",
       "16                      5                 1    ...            3.0         3.0   \n",
       "17                      5                 3    ...            NaN         NaN   \n",
       "18                      4                 1    ...            2.0         3.0   \n",
       "19                      3                 1    ...            2.0         4.0   \n",
       "\n",
       "    PLZ8_ANTG3  PLZ8_ANTG4  PLZ8_BAUMAX  PLZ8_HHZ  PLZ8_GBZ  ARBEIT  \\\n",
       "0          NaN         NaN          NaN       NaN       NaN     NaN   \n",
       "1          2.0         1.0          1.0       5.0       4.0     3.0   \n",
       "2          1.0         0.0          1.0       4.0       4.0     3.0   \n",
       "3          2.0         0.0          1.0       3.0       4.0     2.0   \n",
       "4          2.0         1.0          2.0       3.0       3.0     4.0   \n",
       "5          1.0         1.0          1.0       5.0       5.0     2.0   \n",
       "6          1.0         0.0          1.0       5.0       5.0     4.0   \n",
       "7          1.0         0.0          1.0       4.0       4.0     2.0   \n",
       "8          2.0         1.0          1.0       3.0       3.0     2.0   \n",
       "9          2.0         1.0          1.0       3.0       3.0     2.0   \n",
       "10         2.0         0.0          2.0       3.0       3.0     4.0   \n",
       "11         NaN         NaN          NaN       NaN       NaN     NaN   \n",
       "12         1.0         0.0          1.0       5.0       5.0     3.0   \n",
       "13         1.0         1.0          1.0       3.0       3.0     3.0   \n",
       "14         NaN         NaN          NaN       NaN       NaN     NaN   \n",
       "15         NaN         NaN          NaN       NaN       NaN     4.0   \n",
       "16         1.0         0.0          1.0       3.0       4.0     1.0   \n",
       "17         NaN         NaN          NaN       NaN       NaN     NaN   \n",
       "18         2.0         1.0          1.0       3.0       3.0     3.0   \n",
       "19         2.0         1.0          2.0       5.0       4.0     4.0   \n",
       "\n",
       "    ORTSGR_KLS9  RELAT_AB  \n",
       "0           NaN       NaN  \n",
       "1           5.0       4.0  \n",
       "2           5.0       2.0  \n",
       "3           3.0       3.0  \n",
       "4           6.0       5.0  \n",
       "5           3.0       3.0  \n",
       "6           6.0       3.0  \n",
       "7           5.0       2.0  \n",
       "8           4.0       3.0  \n",
       "9           3.0       1.0  \n",
       "10          6.0       5.0  \n",
       "11          NaN       NaN  \n",
       "12          6.0       4.0  \n",
       "13          6.0       4.0  \n",
       "14          NaN       NaN  \n",
       "15          8.0       5.0  \n",
       "16          2.0       1.0  \n",
       "17          NaN       NaN  \n",
       "18          4.0       3.0  \n",
       "19          6.0       3.0  \n",
       "\n",
       "[20 rows x 85 columns]"
      ]
     },
     "execution_count": 91,
     "metadata": {},
     "output_type": "execute_result"
    }
   ],
   "source": [
    "# check if the coversion works \n",
    "na_azdias.head(20)"
   ]
  },
  {
   "cell_type": "markdown",
   "metadata": {},
   "source": [
    "#### Step 1.1.2: Assess Missing Data in Each Column\n",
    "\n",
    "How much missing data is present in each column? There are a few columns that are outliers in terms of the proportion of values that are missing. You will want to use matplotlib's [`hist()`](https://matplotlib.org/api/_as_gen/matplotlib.pyplot.hist.html) function to visualize the distribution of missing value counts to find these columns. Identify and document these columns. While some of these columns might have justifications for keeping or re-encoding the data, for this project you should just remove them from the dataframe. (Feel free to make remarks about these outlier columns in the discussion, however!)\n",
    "\n",
    "For the remaining features, are there any patterns in which columns have, or share, missing data?"
   ]
  },
  {
   "cell_type": "code",
   "execution_count": 5,
   "metadata": {},
   "outputs": [],
   "source": [
    "# Perform an assessment of how much missing data there is in each column of the\n",
    "# dataset.\n",
    "nan_column=na_azdias.isna().sum()"
   ]
  },
  {
   "cell_type": "code",
   "execution_count": 6,
   "metadata": {},
   "outputs": [
    {
     "name": "stdout",
     "output_type": "stream",
     "text": [
      "AGER_TYP 685843\n",
      "ALTERSKATEGORIE_GROB 2881\n",
      "ANREDE_KZ 0\n",
      "CJT_GESAMTTYP 4854\n",
      "FINANZ_MINIMALIST 0\n",
      "FINANZ_SPARER 0\n",
      "FINANZ_VORSORGER 0\n",
      "FINANZ_ANLEGER 0\n",
      "FINANZ_UNAUFFAELLIGER 0\n",
      "FINANZ_HAUSBAUER 0\n",
      "FINANZTYP 0\n",
      "GEBURTSJAHR 392318\n",
      "GFK_URLAUBERTYP 4854\n",
      "GREEN_AVANTGARDE 0\n",
      "HEALTH_TYP 111196\n",
      "LP_LEBENSPHASE_FEIN 97632\n",
      "LP_LEBENSPHASE_GROB 94572\n",
      "LP_FAMILIE_FEIN 77792\n",
      "LP_FAMILIE_GROB 77792\n",
      "LP_STATUS_FEIN 4854\n",
      "LP_STATUS_GROB 4854\n",
      "NATIONALITAET_KZ 108315\n",
      "PRAEGENDE_JUGENDJAHRE 108164\n",
      "RETOURTYP_BK_S 4854\n",
      "SEMIO_SOZ 0\n",
      "SEMIO_FAM 0\n",
      "SEMIO_REL 0\n",
      "SEMIO_MAT 0\n",
      "SEMIO_VERT 0\n",
      "SEMIO_LUST 0\n",
      "SEMIO_ERL 0\n",
      "SEMIO_KULT 0\n",
      "SEMIO_RAT 0\n",
      "SEMIO_KRIT 0\n",
      "SEMIO_DOM 0\n",
      "SEMIO_KAEM 0\n",
      "SEMIO_PFLICHT 0\n",
      "SEMIO_TRADV 0\n",
      "SHOPPER_TYP 111196\n",
      "SOHO_KZ 73499\n",
      "TITEL_KZ 889061\n",
      "VERS_TYP 111196\n",
      "ZABEOTYP 0\n",
      "ALTER_HH 310267\n",
      "ANZ_PERSONEN 73499\n",
      "ANZ_TITEL 73499\n",
      "HH_EINKOMMEN_SCORE 18348\n",
      "KK_KUNDENTYP 584612\n",
      "W_KEIT_KIND_HH 147988\n",
      "WOHNDAUER_2008 73499\n",
      "ANZ_HAUSHALTE_AKTIV 99611\n",
      "ANZ_HH_TITEL 97008\n",
      "GEBAEUDETYP 93148\n",
      "KONSUMNAEHE 73969\n",
      "MIN_GEBAEUDEJAHR 93148\n",
      "OST_WEST_KZ 93148\n",
      "WOHNLAGE 93148\n",
      "CAMEO_DEUG_2015 99352\n",
      "CAMEO_DEU_2015 99352\n",
      "CAMEO_INTL_2015 99352\n",
      "KBA05_ANTG1 133324\n",
      "KBA05_ANTG2 133324\n",
      "KBA05_ANTG3 133324\n",
      "KBA05_ANTG4 133324\n",
      "KBA05_BAUMAX 476524\n",
      "KBA05_GBZ 133324\n",
      "BALLRAUM 93740\n",
      "EWDICHTE 93740\n",
      "INNENSTADT 93740\n",
      "GEBAEUDETYP_RASTER 93155\n",
      "KKK 158064\n",
      "MOBI_REGIO 133324\n",
      "ONLINE_AFFINITAET 4854\n",
      "REGIOTYP 158064\n",
      "KBA13_ANZAHL_PKW 105800\n",
      "PLZ8_ANTG1 116515\n",
      "PLZ8_ANTG2 116515\n",
      "PLZ8_ANTG3 116515\n",
      "PLZ8_ANTG4 116515\n",
      "PLZ8_BAUMAX 116515\n",
      "PLZ8_HHZ 116515\n",
      "PLZ8_GBZ 116515\n",
      "ARBEIT 97375\n",
      "ORTSGR_KLS9 97274\n",
      "RELAT_AB 97375\n"
     ]
    },
    {
     "data": {
      "image/png": "[encoded data removed]",
      "text/plain": [
       "<matplotlib.figure.Figure at 0x7fe21d38b9e8>"
      ]
     },
     "metadata": {
      "needs_background": "light"
     },
     "output_type": "display_data"
    }
   ],
   "source": [
    "# Investigate patterns in the amount of missing data in each column.\n",
    "for i in range(len(nan_column)):\n",
    "    print(nan_column.index[i],nan_column[i])\n",
    "\n",
    "plt.hist(nan_column)\n",
    "plt.show()"
   ]
  },
  {
   "cell_type": "code",
   "execution_count": 7,
   "metadata": {
    "scrolled": false
   },
   "outputs": [
    {
     "name": "stdout",
     "output_type": "stream",
     "text": [
      "AGER_TYP 685843\n",
      "GEBURTSJAHR 392318\n",
      "TITEL_KZ 889061\n",
      "ALTER_HH 310267\n",
      "KK_KUNDENTYP 584612\n",
      "KBA05_BAUMAX 476524\n"
     ]
    }
   ],
   "source": [
    "# The columns with large amount of NaN\n",
    "remove_list = nan_column.index[nan_column > 200000].tolist()\n",
    "for i in remove_list:\n",
    "    print(i,nan_column[i])"
   ]
  },
  {
   "cell_type": "code",
   "execution_count": 8,
   "metadata": {},
   "outputs": [
    {
     "name": "stdout",
     "output_type": "stream",
     "text": [
      "(891221, 79)\n"
     ]
    }
   ],
   "source": [
    "# Remove the outlier columns from the dataset. (You'll perform other data\n",
    "# engineering tasks such as re-encoding and imputation later.)\n",
    "azdias_dropped =na_azdias.drop(remove_list, axis=1)\n",
    "print(azdias_dropped.shape)"
   ]
  },
  {
   "cell_type": "markdown",
   "metadata": {},
   "source": [
    "#### Discussion 1.1.2: Assess Missing Data in Each Column\n",
    "\n",
    "Some consecutive columns have the same number of missing data. Usually, their column names are very closed. It is expected that data in those columns are collected together. If one of them is missed, the others are also missed.\n",
    "Below are consecutive columns with the same number of missing data. \n",
    "\n",
    "LP_FAMILIE_FEIN 77792 <br>\n",
    "LP_FAMILIE_GROB 77792\n",
    "\n",
    "LP_STATUS_FEIN 4854 <br>\n",
    "LP_STATUS_GROB 4854\n",
    "\n",
    "MIN_GEBAEUDEJAHR 93148 <br>\n",
    "OST_WEST_KZ 93148 <br>\n",
    "WOHNLAGE 93148\n",
    "\n",
    "CAMEO_DEUG_2015 99352 <br>\n",
    "CAMEO_DEU_2015 99352 <br>\n",
    "CAMEO_INTL_2015 99352\n",
    "\n",
    "KBA05_ANTG1 133324 <br>\n",
    "KBA05_ANTG2 133324 <br>\n",
    "KBA05_ANTG3 133324 <br>\n",
    "KBA05_ANTG4 133324 <br>\n",
    "KBA05_GBZ 133324\n",
    "\n",
    "PLZ8_ANTG1 116515 <br>\n",
    "PLZ8_ANTG2 116515 <br>\n",
    "PLZ8_ANTG3 116515 <br>\n",
    "PLZ8_ANTG4 116515 <br>\n",
    "PLZ8_BAUMAX 116515 <br>\n",
    "PLZ8_HHZ 116515 <br>\n",
    "PLZ8_GBZ 116515\n",
    "\n",
    "From the histogram above, only 6 columns have a large proportion (>200,000 or 20%) of missing data. The following six columns are removed.\n",
    "\n",
    "Removed columns:\n",
    "1. AGER_TYP\n",
    "2. GEBURTSJAHR\n",
    "3. TITEL_KZ\n",
    "4. ALTER_HH\n",
    "5. KK_KUNDENTYP\n",
    "6. KBA05_BAUMAX\n",
    "\n",
    "It seems that the column 'KBA05_BAUMAX' is related to other five columns starting with 'KBA05_'. Actually, it imay be better to keep this column."
   ]
  },
  {
   "cell_type": "markdown",
   "metadata": {},
   "source": [
    "#### Step 1.1.3: Assess Missing Data in Each Row\n",
    "\n",
    "Now, you'll perform a similar assessment for the rows of the dataset. How much data is missing in each row? As with the columns, you should see some groups of points that have a very different numbers of missing values. Divide the data into two subsets: one for data points that are above some threshold for missing values, and a second subset for points below that threshold.\n",
    "\n",
    "In order to know what to do with the outlier rows, we should see if the distribution of data values on columns that are not missing data (or are missing very little data) are similar or different between the two groups. Select at least five of these columns and compare the distribution of values.\n",
    "- You can use seaborn's [`countplot()`](https://seaborn.pydata.org/generated/seaborn.countplot.html) function to create a bar chart of code frequencies and matplotlib's [`subplot()`](https://matplotlib.org/api/_as_gen/matplotlib.pyplot.subplot.html) function to put bar charts for the two subplots side by side.\n",
    "- To reduce repeated code, you might want to write a function that can perform this comparison, taking as one of its arguments a column to be compared.\n",
    "\n",
    "Depending on what you observe in your comparison, this will have implications on how you approach your conclusions later in the analysis. If the distributions of non-missing features look similar between the data with many missing values and the data with few or no missing values, then we could argue that simply dropping those points from the analysis won't present a major issue. On the other hand, if the data with many missing values looks very different from the data with few or no missing values, then we should make a note on those data as special. We'll revisit these data later on. **Either way, you should continue your analysis for now using just the subset of the data with few or no missing values.**"
   ]
  },
  {
   "cell_type": "code",
   "execution_count": 9,
   "metadata": {},
   "outputs": [
    {
     "name": "stdout",
     "output_type": "stream",
     "text": [
      "<bound method NDFrame.head of 0         43\n",
      "1          0\n",
      "2          0\n",
      "3          7\n",
      "4          0\n",
      "5          0\n",
      "6          0\n",
      "7          0\n",
      "8          0\n",
      "9          0\n",
      "10         0\n",
      "11        47\n",
      "12         6\n",
      "13         8\n",
      "14        47\n",
      "15         8\n",
      "16         6\n",
      "17        47\n",
      "18         3\n",
      "19         0\n",
      "20        10\n",
      "21         0\n",
      "22         0\n",
      "23         8\n",
      "24        47\n",
      "25         5\n",
      "26        19\n",
      "27         0\n",
      "28         0\n",
      "29         2\n",
      "          ..\n",
      "891191     0\n",
      "891192     0\n",
      "891193     0\n",
      "891194     0\n",
      "891195     0\n",
      "891196     0\n",
      "891197     0\n",
      "891198     0\n",
      "891199     0\n",
      "891200     0\n",
      "891201     0\n",
      "891202     0\n",
      "891203    14\n",
      "891204     0\n",
      "891205     0\n",
      "891206     0\n",
      "891207     0\n",
      "891208     3\n",
      "891209     0\n",
      "891210     0\n",
      "891211     0\n",
      "891212     0\n",
      "891213     0\n",
      "891214     0\n",
      "891215     0\n",
      "891216     3\n",
      "891217     4\n",
      "891218     5\n",
      "891219     0\n",
      "891220     0\n",
      "Length: 891221, dtype: int64>\n"
     ]
    },
    {
     "data": {
      "image/png": "[encoded data removed]",
      "text/plain": [
       "<matplotlib.figure.Figure at 0x7fe21d392160>"
      ]
     },
     "metadata": {
      "needs_background": "light"
     },
     "output_type": "display_data"
    }
   ],
   "source": [
    "# How much data is missing in each row of the dataset?\n",
    "nan_row = azdias_dropped.isna().sum(axis=1)\n",
    "print(nan_row.head)\n",
    "plt.hist(nan_row)\n",
    "plt.show()"
   ]
  },
  {
   "cell_type": "code",
   "execution_count": 10,
   "metadata": {},
   "outputs": [
    {
     "name": "stdout",
     "output_type": "stream",
     "text": [
      "Number of data with few NaN:  780153\n"
     ]
    }
   ],
   "source": [
    "# Write code to divide the data into two subsets based on the number of missing\n",
    "# values in each row.\n",
    "azdias_dropped['Num_NaN'] = nan_row\n",
    "threshold = 10\n",
    "azdias_little_na = azdias_dropped[azdias_dropped['Num_NaN'] <= threshold]\n",
    "azdias_many_na = azdias_dropped[azdias_dropped['Num_NaN'] > threshold]\n",
    "print('Number of data with few NaN: ',azdias_little_na.shape[0])"
   ]
  },
  {
   "cell_type": "code",
   "execution_count": 11,
   "metadata": {
    "scrolled": true
   },
   "outputs": [
    {
     "data": {
      "image/png": "[encoded data removed]",
      "text/plain": [
       "<matplotlib.figure.Figure at 0x7fe21d2084e0>"
      ]
     },
     "metadata": {
      "needs_background": "light"
     },
     "output_type": "display_data"
    },
    {
     "data": {
      "image/png": "[encoded data removed]",
      "text/plain": [
       "<matplotlib.figure.Figure at 0x7fe21d26b5f8>"
      ]
     },
     "metadata": {
      "needs_background": "light"
     },
     "output_type": "display_data"
    },
    {
     "data": {
      "image/png": "[encoded data removed]",
      "text/plain": [
       "<matplotlib.figure.Figure at 0x7fe21d0e65c0>"
      ]
     },
     "metadata": {
      "needs_background": "light"
     },
     "output_type": "display_data"
    },
    {
     "data": {
      "image/png": "[encoded data removed]",
      "text/plain": [
       "<matplotlib.figure.Figure at 0x7fe21cf73f60>"
      ]
     },
     "metadata": {
      "needs_background": "light"
     },
     "output_type": "display_data"
    },
    {
     "data": {
      "image/png": "[encoded data removed]",
      "text/plain": [
       "<matplotlib.figure.Figure at 0x7fe21cf27e80>"
      ]
     },
     "metadata": {
      "needs_background": "light"
     },
     "output_type": "display_data"
    }
   ],
   "source": [
    "# Compare the distribution of values for at least five columns where there are\n",
    "# no or few missing values, between the two subsets.\n",
    "\n",
    "def plot_2 (column_name):\n",
    "    fig = plt.figure()\n",
    "    plt.subplot(121)\n",
    "    sns.countplot(x = column_name,data = azdias_little_na)\n",
    "    plt.subplot(122)\n",
    "    sns.countplot(x = column_name,data = azdias_many_na)\n",
    "    plt.tight_layout()\n",
    "    plt.show()\n",
    "\n",
    "compare_list =['ALTERSKATEGORIE_GROB','ANREDE_KZ','FINANZTYP','ZABEOTYP','ARBEIT']\n",
    "\n",
    "for x in compare_list:\n",
    "    plot_2(x)"
   ]
  },
  {
   "cell_type": "code",
   "execution_count": 12,
   "metadata": {},
   "outputs": [
    {
     "name": "stderr",
     "output_type": "stream",
     "text": [
      "/opt/conda/lib/python3.6/site-packages/pandas/core/frame.py:3697: SettingWithCopyWarning: \n",
      "A value is trying to be set on a copy of a slice from a DataFrame\n",
      "\n",
      "See the caveats in the documentation: http://pandas.pydata.org/pandas-docs/stable/indexing.html#indexing-view-versus-copy\n",
      "  errors=errors)\n"
     ]
    }
   ],
   "source": [
    "# remove the column 'Num_NaN'\n",
    "azdias_little_na.drop('Num_NaN', axis=1,inplace = True);"
   ]
  },
  {
   "cell_type": "markdown",
   "metadata": {},
   "source": [
    "#### Discussion 1.1.3: Assess Missing Data in Each Row\n",
    "\n",
    "The distribution of data in these two datasets are quite similar in general. But in some features, the distribution can be quite different like 'FINANZTYP'. Fortunately, the proportion of data with many missing data is about 10%. Even the distribution is not the similar, the overall distribution is not affected too much. It is still better to study each feature one by one.\n",
    "\n",
    "In this project, data with more than 10 NaN are removed."
   ]
  },
  {
   "cell_type": "markdown",
   "metadata": {},
   "source": [
    "### Step 1.2: Select and Re-Encode Features\n",
    "\n",
    "Checking for missing data isn't the only way in which you can prepare a dataset for analysis. Since the unsupervised learning techniques to be used will only work on data that is encoded numerically, you need to make a few encoding changes or additional assumptions to be able to make progress. In addition, while almost all of the values in the dataset are encoded using numbers, not all of them represent numeric values. Check the third column of the feature summary (`feat_info`) for a summary of types of measurement.\n",
    "- For numeric and interval data, these features can be kept without changes.\n",
    "- Most of the variables in the dataset are ordinal in nature. While ordinal values may technically be non-linear in spacing, make the simplifying assumption that the ordinal variables can be treated as being interval in nature (that is, kept without any changes).\n",
    "- Special handling may be necessary for the remaining two variable types: categorical, and 'mixed'.\n",
    "\n",
    "In the first two parts of this sub-step, you will perform an investigation of the categorical and mixed-type features and make a decision on each of them, whether you will keep, drop, or re-encode each. Then, in the last part, you will create a new data frame with only the selected and engineered columns.\n",
    "\n",
    "Data wrangling is often the trickiest part of the data analysis process, and there's a lot of it to be done here. But stick with it: once you're done with this step, you'll be ready to get to the machine learning parts of the project!"
   ]
  },
  {
   "cell_type": "code",
   "execution_count": 13,
   "metadata": {},
   "outputs": [
    {
     "data": {
      "text/plain": [
       "(79, 5)"
      ]
     },
     "execution_count": 13,
     "metadata": {},
     "output_type": "execute_result"
    }
   ],
   "source": [
    "# Remove the dropped attribute in feat_ino\n",
    "feat_info_dropped = feat_info.copy()\n",
    "for x in remove_list:\n",
    "    feat_info_dropped.drop(feat_info.index[feat_info.attribute == x][0],inplace=True)\n",
    "\n",
    "feat_info_dropped.reset_index(inplace = True, drop = True)\n",
    "feat_info_dropped.shape"
   ]
  },
  {
   "cell_type": "code",
   "execution_count": 14,
   "metadata": {},
   "outputs": [
    {
     "data": {
      "text/plain": [
       "type\n",
       "categorical    18\n",
       "mixed           6\n",
       "numeric         6\n",
       "ordinal        49\n",
       "dtype: int64"
      ]
     },
     "execution_count": 14,
     "metadata": {},
     "output_type": "execute_result"
    }
   ],
   "source": [
    "# How many features are there of each data type?\n",
    "feat_info_dropped.groupby('type').size()"
   ]
  },
  {
   "cell_type": "markdown",
   "metadata": {},
   "source": [
    "#### Step 1.2.1: Re-Encode Categorical Features\n",
    "\n",
    "For categorical data, you would ordinarily need to encode the levels as dummy variables. Depending on the number of categories, perform one of the following:\n",
    "- For binary (two-level) categoricals that take numeric values, you can keep them without needing to do anything.\n",
    "- There is one binary variable that takes on non-numeric values. For this one, you need to re-encode the values as numbers or create a dummy variable.\n",
    "- For multi-level categoricals (three or more values), you can choose to encode the values using multiple dummy variables (e.g. via [OneHotEncoder](http://scikit-learn.org/stable/modules/generated/sklearn.preprocessing.OneHotEncoder.html)), or (to keep things straightforward) just drop them from the analysis. As always, document your choices in the Discussion section."
   ]
  },
  {
   "cell_type": "code",
   "execution_count": 15,
   "metadata": {},
   "outputs": [
    {
     "data": {
      "text/html": [
       "<div>\n",
       "<style scoped>\n",
       "    .dataframe tbody tr th:only-of-type {\n",
       "        vertical-align: middle;\n",
       "    }\n",
       "\n",
       "    .dataframe tbody tr th {\n",
       "        vertical-align: top;\n",
       "    }\n",
       "\n",
       "    .dataframe thead th {\n",
       "        text-align: right;\n",
       "    }\n",
       "</style>\n",
       "<table border=\"1\" class=\"dataframe\">\n",
       "  <thead>\n",
       "    <tr style=\"text-align: right;\">\n",
       "      <th></th>\n",
       "      <th>attribute</th>\n",
       "      <th>information_level</th>\n",
       "      <th>type</th>\n",
       "      <th>missing_or_unknown</th>\n",
       "      <th>NA_tags</th>\n",
       "    </tr>\n",
       "  </thead>\n",
       "  <tbody>\n",
       "    <tr>\n",
       "      <th>1</th>\n",
       "      <td>ANREDE_KZ</td>\n",
       "      <td>person</td>\n",
       "      <td>categorical</td>\n",
       "      <td>[-1,0]</td>\n",
       "      <td>[-1, 0]</td>\n",
       "    </tr>\n",
       "    <tr>\n",
       "      <th>2</th>\n",
       "      <td>CJT_GESAMTTYP</td>\n",
       "      <td>person</td>\n",
       "      <td>categorical</td>\n",
       "      <td>[0]</td>\n",
       "      <td>[0]</td>\n",
       "    </tr>\n",
       "    <tr>\n",
       "      <th>9</th>\n",
       "      <td>FINANZTYP</td>\n",
       "      <td>person</td>\n",
       "      <td>categorical</td>\n",
       "      <td>[-1]</td>\n",
       "      <td>[-1]</td>\n",
       "    </tr>\n",
       "    <tr>\n",
       "      <th>10</th>\n",
       "      <td>GFK_URLAUBERTYP</td>\n",
       "      <td>person</td>\n",
       "      <td>categorical</td>\n",
       "      <td>[]</td>\n",
       "      <td>[]</td>\n",
       "    </tr>\n",
       "    <tr>\n",
       "      <th>11</th>\n",
       "      <td>GREEN_AVANTGARDE</td>\n",
       "      <td>person</td>\n",
       "      <td>categorical</td>\n",
       "      <td>[]</td>\n",
       "      <td>[]</td>\n",
       "    </tr>\n",
       "    <tr>\n",
       "      <th>15</th>\n",
       "      <td>LP_FAMILIE_FEIN</td>\n",
       "      <td>person</td>\n",
       "      <td>categorical</td>\n",
       "      <td>[0]</td>\n",
       "      <td>[0]</td>\n",
       "    </tr>\n",
       "    <tr>\n",
       "      <th>16</th>\n",
       "      <td>LP_FAMILIE_GROB</td>\n",
       "      <td>person</td>\n",
       "      <td>categorical</td>\n",
       "      <td>[0]</td>\n",
       "      <td>[0]</td>\n",
       "    </tr>\n",
       "    <tr>\n",
       "      <th>17</th>\n",
       "      <td>LP_STATUS_FEIN</td>\n",
       "      <td>person</td>\n",
       "      <td>categorical</td>\n",
       "      <td>[0]</td>\n",
       "      <td>[0]</td>\n",
       "    </tr>\n",
       "    <tr>\n",
       "      <th>18</th>\n",
       "      <td>LP_STATUS_GROB</td>\n",
       "      <td>person</td>\n",
       "      <td>categorical</td>\n",
       "      <td>[0]</td>\n",
       "      <td>[0]</td>\n",
       "    </tr>\n",
       "    <tr>\n",
       "      <th>19</th>\n",
       "      <td>NATIONALITAET_KZ</td>\n",
       "      <td>person</td>\n",
       "      <td>categorical</td>\n",
       "      <td>[-1,0]</td>\n",
       "      <td>[-1, 0]</td>\n",
       "    </tr>\n",
       "    <tr>\n",
       "      <th>36</th>\n",
       "      <td>SHOPPER_TYP</td>\n",
       "      <td>person</td>\n",
       "      <td>categorical</td>\n",
       "      <td>[-1]</td>\n",
       "      <td>[-1]</td>\n",
       "    </tr>\n",
       "    <tr>\n",
       "      <th>37</th>\n",
       "      <td>SOHO_KZ</td>\n",
       "      <td>person</td>\n",
       "      <td>categorical</td>\n",
       "      <td>[-1]</td>\n",
       "      <td>[-1]</td>\n",
       "    </tr>\n",
       "    <tr>\n",
       "      <th>38</th>\n",
       "      <td>VERS_TYP</td>\n",
       "      <td>person</td>\n",
       "      <td>categorical</td>\n",
       "      <td>[-1]</td>\n",
       "      <td>[-1]</td>\n",
       "    </tr>\n",
       "    <tr>\n",
       "      <th>39</th>\n",
       "      <td>ZABEOTYP</td>\n",
       "      <td>person</td>\n",
       "      <td>categorical</td>\n",
       "      <td>[-1,9]</td>\n",
       "      <td>[-1, 9]</td>\n",
       "    </tr>\n",
       "    <tr>\n",
       "      <th>47</th>\n",
       "      <td>GEBAEUDETYP</td>\n",
       "      <td>building</td>\n",
       "      <td>categorical</td>\n",
       "      <td>[-1,0]</td>\n",
       "      <td>[-1, 0]</td>\n",
       "    </tr>\n",
       "    <tr>\n",
       "      <th>50</th>\n",
       "      <td>OST_WEST_KZ</td>\n",
       "      <td>building</td>\n",
       "      <td>categorical</td>\n",
       "      <td>[-1]</td>\n",
       "      <td>[-1]</td>\n",
       "    </tr>\n",
       "    <tr>\n",
       "      <th>52</th>\n",
       "      <td>CAMEO_DEUG_2015</td>\n",
       "      <td>microcell_rr4</td>\n",
       "      <td>categorical</td>\n",
       "      <td>[-1,X]</td>\n",
       "      <td>[-1, X]</td>\n",
       "    </tr>\n",
       "    <tr>\n",
       "      <th>53</th>\n",
       "      <td>CAMEO_DEU_2015</td>\n",
       "      <td>microcell_rr4</td>\n",
       "      <td>categorical</td>\n",
       "      <td>[XX]</td>\n",
       "      <td>[XX]</td>\n",
       "    </tr>\n",
       "  </tbody>\n",
       "</table>\n",
       "</div>"
      ],
      "text/plain": [
       "           attribute information_level         type missing_or_unknown  \\\n",
       "1          ANREDE_KZ            person  categorical             [-1,0]   \n",
       "2      CJT_GESAMTTYP            person  categorical                [0]   \n",
       "9          FINANZTYP            person  categorical               [-1]   \n",
       "10   GFK_URLAUBERTYP            person  categorical                 []   \n",
       "11  GREEN_AVANTGARDE            person  categorical                 []   \n",
       "15   LP_FAMILIE_FEIN            person  categorical                [0]   \n",
       "16   LP_FAMILIE_GROB            person  categorical                [0]   \n",
       "17    LP_STATUS_FEIN            person  categorical                [0]   \n",
       "18    LP_STATUS_GROB            person  categorical                [0]   \n",
       "19  NATIONALITAET_KZ            person  categorical             [-1,0]   \n",
       "36       SHOPPER_TYP            person  categorical               [-1]   \n",
       "37           SOHO_KZ            person  categorical               [-1]   \n",
       "38          VERS_TYP            person  categorical               [-1]   \n",
       "39          ZABEOTYP            person  categorical             [-1,9]   \n",
       "47       GEBAEUDETYP          building  categorical             [-1,0]   \n",
       "50       OST_WEST_KZ          building  categorical               [-1]   \n",
       "52   CAMEO_DEUG_2015     microcell_rr4  categorical             [-1,X]   \n",
       "53    CAMEO_DEU_2015     microcell_rr4  categorical               [XX]   \n",
       "\n",
       "    NA_tags  \n",
       "1   [-1, 0]  \n",
       "2       [0]  \n",
       "9      [-1]  \n",
       "10       []  \n",
       "11       []  \n",
       "15      [0]  \n",
       "16      [0]  \n",
       "17      [0]  \n",
       "18      [0]  \n",
       "19  [-1, 0]  \n",
       "36     [-1]  \n",
       "37     [-1]  \n",
       "38     [-1]  \n",
       "39  [-1, 9]  \n",
       "47  [-1, 0]  \n",
       "50     [-1]  \n",
       "52  [-1, X]  \n",
       "53     [XX]  "
      ]
     },
     "execution_count": 15,
     "metadata": {},
     "output_type": "execute_result"
    }
   ],
   "source": [
    "# Assess categorical variables: which are binary, which are multi-level, and\n",
    "# which one needs to be re-encoded?\n",
    "feat_info_dropped[feat_info_dropped.type=='categorical']\n"
   ]
  },
  {
   "cell_type": "code",
   "execution_count": 16,
   "metadata": {},
   "outputs": [
    {
     "name": "stderr",
     "output_type": "stream",
     "text": [
      "/opt/conda/lib/python3.6/site-packages/pandas/core/generic.py:5890: SettingWithCopyWarning: \n",
      "A value is trying to be set on a copy of a slice from a DataFrame\n",
      "\n",
      "See the caveats in the documentation: http://pandas.pydata.org/pandas-docs/stable/indexing.html#indexing-view-versus-copy\n",
      "  self._update_inplace(new_data)\n"
     ]
    }
   ],
   "source": [
    "# Re-encode non-numeric categorical feature to numeric feature\n",
    "\n",
    "azdias_little_na['OST_WEST_KZ'].replace({'O': 0, 'W':1},inplace=True)\n"
   ]
  },
  {
   "cell_type": "code",
   "execution_count": 17,
   "metadata": {},
   "outputs": [
    {
     "data": {
      "text/plain": [
       "(780153, 194)"
      ]
     },
     "execution_count": 17,
     "metadata": {},
     "output_type": "execute_result"
    }
   ],
   "source": [
    "# Re-encode categorical variable(s) to be kept in the analysis.\n",
    "re_encode_list = ['CJT_GESAMTTYP','FINANZTYP','GFK_URLAUBERTYP','LP_FAMILIE_FEIN','LP_FAMILIE_GROB','LP_STATUS_FEIN',\n",
    "                  'LP_STATUS_GROB','NATIONALITAET_KZ','SHOPPER_TYP','ZABEOTYP','GEBAEUDETYP','CAMEO_DEUG_2015',\n",
    "                  'CAMEO_DEU_2015']\n",
    "\n",
    "azdias_dummy = pd.get_dummies(azdias_little_na, columns=re_encode_list)\n",
    "azdias_dummy.shape"
   ]
  },
  {
   "cell_type": "markdown",
   "metadata": {},
   "source": [
    "#### Discussion 1.2.1: Re-Encode Categorical Features\n",
    "\n",
    "There are 18 features which are categorical type. 5 of them are binary and 13 of them are multi-level categoricals.\n",
    "\n",
    "Binary: <br>\n",
    "'ANREDE_KZ','GREEN_AVANTGARDE','SOHO_KZ','VERS_TYP','OST_WEST_KZ'\n",
    "\n",
    "Multi-level: <br>\n",
    "'CJT_GESAMTTYP','FINANZTYP','GFK_URLAUBERTYP','LP_FAMILIE_FEIN','LP_FAMILIE_GROB','LP_STATUS_FEIN', <br>\n",
    "'LP_STATUS_GROB','NATIONALITAET_KZ','SHOPPER_TYP','ZABEOTYP','GEBAEUDETYP','CAMEO_DEUG_2015','CAMEO_DEU_2015'\n",
    "\n",
    "The binary faetures are kept except 'OST_WEST_KZ' which is non-numeric. Numeric values are re-assigned to 'OST_WEST_KZ'. From 'O' and 'W' to 0 and 1.\n",
    "\n",
    "For the 13 multi-level categorical features, they are re-encoded into multiple dummy variables by pd.get_dummies."
   ]
  },
  {
   "cell_type": "markdown",
   "metadata": {},
   "source": [
    "#### Step 1.2.2: Engineer Mixed-Type Features\n",
    "\n",
    "There are a handful of features that are marked as \"mixed\" in the feature summary that require special treatment in order to be included in the analysis. There are two in particular that deserve attention; the handling of the rest are up to your own choices:\n",
    "- \"PRAEGENDE_JUGENDJAHRE\" combines information on three dimensions: generation by decade, movement (mainstream vs. avantgarde), and nation (east vs. west). While there aren't enough levels to disentangle east from west, you should create two new variables to capture the other two dimensions: an interval-type variable for decade, and a binary variable for movement.\n",
    "- \"CAMEO_INTL_2015\" combines information on two axes: wealth and life stage. Break up the two-digit codes by their 'tens'-place and 'ones'-place digits into two new ordinal variables (which, for the purposes of this project, is equivalent to just treating them as their raw numeric values).\n",
    "- If you decide to keep or engineer new features around the other mixed-type features, make sure you note your steps in the Discussion section.\n",
    "\n",
    "Be sure to check `Data_Dictionary.md` for the details needed to finish these tasks."
   ]
  },
  {
   "cell_type": "code",
   "execution_count": 18,
   "metadata": {},
   "outputs": [
    {
     "data": {
      "text/html": [
       "<div>\n",
       "<style scoped>\n",
       "    .dataframe tbody tr th:only-of-type {\n",
       "        vertical-align: middle;\n",
       "    }\n",
       "\n",
       "    .dataframe tbody tr th {\n",
       "        vertical-align: top;\n",
       "    }\n",
       "\n",
       "    .dataframe thead th {\n",
       "        text-align: right;\n",
       "    }\n",
       "</style>\n",
       "<table border=\"1\" class=\"dataframe\">\n",
       "  <thead>\n",
       "    <tr style=\"text-align: right;\">\n",
       "      <th></th>\n",
       "      <th>attribute</th>\n",
       "      <th>information_level</th>\n",
       "      <th>type</th>\n",
       "      <th>missing_or_unknown</th>\n",
       "      <th>NA_tags</th>\n",
       "    </tr>\n",
       "  </thead>\n",
       "  <tbody>\n",
       "    <tr>\n",
       "      <th>13</th>\n",
       "      <td>LP_LEBENSPHASE_FEIN</td>\n",
       "      <td>person</td>\n",
       "      <td>mixed</td>\n",
       "      <td>[0]</td>\n",
       "      <td>[0]</td>\n",
       "    </tr>\n",
       "    <tr>\n",
       "      <th>14</th>\n",
       "      <td>LP_LEBENSPHASE_GROB</td>\n",
       "      <td>person</td>\n",
       "      <td>mixed</td>\n",
       "      <td>[0]</td>\n",
       "      <td>[0]</td>\n",
       "    </tr>\n",
       "    <tr>\n",
       "      <th>20</th>\n",
       "      <td>PRAEGENDE_JUGENDJAHRE</td>\n",
       "      <td>person</td>\n",
       "      <td>mixed</td>\n",
       "      <td>[-1,0]</td>\n",
       "      <td>[-1, 0]</td>\n",
       "    </tr>\n",
       "    <tr>\n",
       "      <th>51</th>\n",
       "      <td>WOHNLAGE</td>\n",
       "      <td>building</td>\n",
       "      <td>mixed</td>\n",
       "      <td>[-1]</td>\n",
       "      <td>[-1]</td>\n",
       "    </tr>\n",
       "    <tr>\n",
       "      <th>54</th>\n",
       "      <td>CAMEO_INTL_2015</td>\n",
       "      <td>microcell_rr4</td>\n",
       "      <td>mixed</td>\n",
       "      <td>[-1,XX]</td>\n",
       "      <td>[-1, XX]</td>\n",
       "    </tr>\n",
       "    <tr>\n",
       "      <th>73</th>\n",
       "      <td>PLZ8_BAUMAX</td>\n",
       "      <td>macrocell_plz8</td>\n",
       "      <td>mixed</td>\n",
       "      <td>[-1,0]</td>\n",
       "      <td>[-1, 0]</td>\n",
       "    </tr>\n",
       "  </tbody>\n",
       "</table>\n",
       "</div>"
      ],
      "text/plain": [
       "                attribute information_level   type missing_or_unknown  \\\n",
       "13    LP_LEBENSPHASE_FEIN            person  mixed                [0]   \n",
       "14    LP_LEBENSPHASE_GROB            person  mixed                [0]   \n",
       "20  PRAEGENDE_JUGENDJAHRE            person  mixed             [-1,0]   \n",
       "51               WOHNLAGE          building  mixed               [-1]   \n",
       "54        CAMEO_INTL_2015     microcell_rr4  mixed            [-1,XX]   \n",
       "73            PLZ8_BAUMAX    macrocell_plz8  mixed             [-1,0]   \n",
       "\n",
       "     NA_tags  \n",
       "13       [0]  \n",
       "14       [0]  \n",
       "20   [-1, 0]  \n",
       "51      [-1]  \n",
       "54  [-1, XX]  \n",
       "73   [-1, 0]  "
      ]
     },
     "execution_count": 18,
     "metadata": {},
     "output_type": "execute_result"
    }
   ],
   "source": [
    "feat_info_dropped[feat_info_dropped.type=='mixed']"
   ]
  },
  {
   "cell_type": "code",
   "execution_count": 19,
   "metadata": {},
   "outputs": [
    {
     "data": {
      "text/plain": [
       "(780153, 190)"
      ]
     },
     "execution_count": 19,
     "metadata": {},
     "output_type": "execute_result"
    }
   ],
   "source": [
    "# Drop 4 features with mixed data type\n",
    "azdias_dummy.drop(['LP_LEBENSPHASE_FEIN','LP_LEBENSPHASE_GROB','WOHNLAGE','PLZ8_BAUMAX'], axis=1,inplace = True);\n",
    "azdias_dummy.shape"
   ]
  },
  {
   "cell_type": "code",
   "execution_count": 20,
   "metadata": {},
   "outputs": [],
   "source": [
    "# Investigate \"PRAEGENDE_JUGENDJAHRE\" and engineer two new variables.\n",
    "# copy the original values to 2 new variables and drop the the original variable\n",
    "azdias_dummy['PRAEGENDE_JUGENDJAHRE_DECADE'] = azdias_dummy['PRAEGENDE_JUGENDJAHRE']\n",
    "azdias_dummy['PRAEGENDE_JUGENDJAHRE_MOVEMENT'] = azdias_dummy['PRAEGENDE_JUGENDJAHRE']\n",
    "azdias_dummy.drop('PRAEGENDE_JUGENDJAHRE', axis=1,inplace = True)"
   ]
  },
  {
   "cell_type": "code",
   "execution_count": 21,
   "metadata": {},
   "outputs": [
    {
     "data": {
      "text/plain": [
       "(780153, 191)"
      ]
     },
     "execution_count": 21,
     "metadata": {},
     "output_type": "execute_result"
    }
   ],
   "source": [
    "# Assign new values to the new variables\n",
    "azdias_dummy['PRAEGENDE_JUGENDJAHRE_DECADE'].replace({1.: 1, 2.: 1, 3.: 2, 4.: 2, 5.: 3, 6.: 3, 7.: 3, 8.: 4, 9.: 4,\n",
    "                                                      10.: 5, 11.: 5, 12.: 5, 13.: 5, 14.: 6, 15.: 6},inplace=True)\n",
    "\n",
    "azdias_dummy['PRAEGENDE_JUGENDJAHRE_MOVEMENT'].replace({1.: 1, 2.: 0, 3.: 1, 4.: 0, 5.: 1, 6.: 0, 7.: 0, 8.: 1, 9.: 0,\n",
    "                                                        10.: 1, 11.: 0, 12.: 1, 13.: 0, 14.: 1, 15.: 0},inplace=True)\n",
    "\n",
    "azdias_dummy.shape"
   ]
  },
  {
   "cell_type": "code",
   "execution_count": 22,
   "metadata": {},
   "outputs": [
    {
     "name": "stdout",
     "output_type": "stream",
     "text": [
      "count    753679.000000\n",
      "mean          4.323676\n",
      "std           1.458356\n",
      "min           1.000000\n",
      "25%           3.000000\n",
      "50%           4.000000\n",
      "75%           6.000000\n",
      "max           6.000000\n",
      "Name: PRAEGENDE_JUGENDJAHRE_DECADE, dtype: float64\n",
      "count    753679.000000\n",
      "mean          0.772196\n",
      "std           0.419416\n",
      "min           0.000000\n",
      "25%           1.000000\n",
      "50%           1.000000\n",
      "75%           1.000000\n",
      "max           1.000000\n",
      "Name: PRAEGENDE_JUGENDJAHRE_MOVEMENT, dtype: float64\n"
     ]
    }
   ],
   "source": [
    "# Check the new values\n",
    "print(azdias_dummy['PRAEGENDE_JUGENDJAHRE_DECADE'].describe())\n",
    "print(azdias_dummy['PRAEGENDE_JUGENDJAHRE_MOVEMENT'].describe())"
   ]
  },
  {
   "cell_type": "code",
   "execution_count": 23,
   "metadata": {},
   "outputs": [],
   "source": [
    "# Investigate \"CAMEO_INTL_2015\" and engineer two new variables.\n",
    "# copy the original values to 2 new variables and drop the the original variable\n",
    "azdias_dummy['CAMEO_INTL_2015_WEALTH'] = azdias_dummy['CAMEO_INTL_2015']\n",
    "azdias_dummy['CAMEO_INTL_2015_LIFE_STAGE'] = azdias_dummy['CAMEO_INTL_2015']\n",
    "azdias_dummy.drop('CAMEO_INTL_2015', axis=1,inplace = True)\n"
   ]
  },
  {
   "cell_type": "code",
   "execution_count": 24,
   "metadata": {},
   "outputs": [],
   "source": [
    "# Assign new values to the new variables\n",
    "azdias_dummy['CAMEO_INTL_2015_WEALTH'].replace(to_replace = ['11','12','13','14','15'],value= 1,inplace=True)\n",
    "azdias_dummy['CAMEO_INTL_2015_WEALTH'].replace(to_replace = ['21','22','23','24','25'],value= 2,inplace=True)\n",
    "azdias_dummy['CAMEO_INTL_2015_WEALTH'].replace(to_replace = ['31','32','33','34','35'],value= 3,inplace=True)\n",
    "azdias_dummy['CAMEO_INTL_2015_WEALTH'].replace(to_replace = ['41','42','43','44','45'],value= 4,inplace=True)\n",
    "azdias_dummy['CAMEO_INTL_2015_WEALTH'].replace(to_replace = ['51','52','53','54','55'],value= 5,inplace=True)\n",
    "\n",
    "azdias_dummy['CAMEO_INTL_2015_LIFE_STAGE'].replace(to_replace = ['11','21','31','41','51'],value= 1,inplace=True)\n",
    "azdias_dummy['CAMEO_INTL_2015_LIFE_STAGE'].replace(to_replace = ['12','22','32','42','52'],value= 2,inplace=True)\n",
    "azdias_dummy['CAMEO_INTL_2015_LIFE_STAGE'].replace(to_replace = ['13','23','33','43','53'],value= 3,inplace=True)\n",
    "azdias_dummy['CAMEO_INTL_2015_LIFE_STAGE'].replace(to_replace = ['14','24','34','44','54'],value= 4,inplace=True)\n",
    "azdias_dummy['CAMEO_INTL_2015_LIFE_STAGE'].replace(to_replace = ['15','25','35','45','55'],value= 5,inplace=True)"
   ]
  },
  {
   "cell_type": "code",
   "execution_count": 25,
   "metadata": {},
   "outputs": [
    {
     "name": "stdout",
     "output_type": "stream",
     "text": [
      "count    776497.000000\n",
      "mean          3.274299\n",
      "std           1.465495\n",
      "min           1.000000\n",
      "25%           2.000000\n",
      "50%           4.000000\n",
      "75%           5.000000\n",
      "max           5.000000\n",
      "Name: CAMEO_INTL_2015_WEALTH, dtype: float64\n",
      "count    776497.000000\n",
      "mean          2.870714\n",
      "std           1.487881\n",
      "min           1.000000\n",
      "25%           1.000000\n",
      "50%           3.000000\n",
      "75%           4.000000\n",
      "max           5.000000\n",
      "Name: CAMEO_INTL_2015_LIFE_STAGE, dtype: float64\n"
     ]
    }
   ],
   "source": [
    "# Check the new values\n",
    "print(azdias_dummy['CAMEO_INTL_2015_WEALTH'].describe())\n",
    "print(azdias_dummy['CAMEO_INTL_2015_LIFE_STAGE'].describe())"
   ]
  },
  {
   "cell_type": "markdown",
   "metadata": {},
   "source": [
    "#### Discussion 1.2.2: Engineer Mixed-Type Features\n",
    "\n",
    "Two features with mixed data type are reconstructed. They are \"PRAEGENDE_JUGENDJAHRE\" and \"CAMEO_INTL_2015\".\n",
    "\n",
    "\"PRAEGENDE_JUGENDJAHRE\" is three dimensional features,1st generation by decade, 2nd movement and 3rd nation. Nation cannot be disentangled. So, information of nation is dropped. Generation by decade and movement are captured by the following two new variables. Values are re-assigned.\n",
    "\n",
    "'PRAEGENDE_JUGENDJAHRE_decade' <br>\n",
    "1: 40's, 2: 50's, 3: 60's, 4: 70's, 5: 80's, 6: 90's\n",
    "\n",
    "'PRAEGENDE_JUGENDJAHRE_movement' <br>\n",
    "0: avantgarde, 1: mainstream\n",
    "\n",
    "\"CAMEO_INTL_2015\" has two types of information, 1st wealth and 2nd life stage. Information are captured by two new variables below. Values are re-assigned.\n",
    "\n",
    "\"CAMEO_INTL_2015_WEALTH\" <br>\n",
    "1: Wealthy Households, 2: Prosperous Households, 3: Comfortable Households, 4: Less Affluent Households, 5: Poorer Households\n",
    "\n",
    "\"CAMEO_INTL_2015_LIFE_STAGE\" <br>\n",
    "1: Pre-Family Couples & Singles, 2: Young Couples With Children, 3: Families With School Age Children, 4: Older Families &  Mature Couples, 5: Elders In Retirement\n",
    "\n",
    "Four features with mixed data type are dropped. They are listed below: <br>\n",
    "'LP_LEBENSPHASE_FEIN','LP_LEBENSPHASE_GROB','WOHNLAGE','PLZ8_BAUMAX'\n"
   ]
  },
  {
   "cell_type": "markdown",
   "metadata": {},
   "source": [
    "#### Step 1.2.3: Complete Feature Selection\n",
    "\n",
    "In order to finish this step up, you need to make sure that your data frame now only has the columns that you want to keep. To summarize, the dataframe should consist of the following:\n",
    "- All numeric, interval, and ordinal type columns from the original dataset.\n",
    "- Binary categorical features (all numerically-encoded).\n",
    "- Engineered features from other multi-level categorical features and mixed features.\n",
    "\n",
    "Make sure that for any new columns that you have engineered, that you've excluded the original columns from the final dataset. Otherwise, their values will interfere with the analysis later on the project. For example, you should not keep \"PRAEGENDE_JUGENDJAHRE\", since its values won't be useful for the algorithm: only the values derived from it in the engineered features you created should be retained. As a reminder, your data should only be from **the subset with few or no missing values**."
   ]
  },
  {
   "cell_type": "code",
   "execution_count": 28,
   "metadata": {},
   "outputs": [],
   "source": [
    "# If there are other re-engineering tasks you need to perform, make sure you\n",
    "# take care of them here. (Dealing with missing data will come in step 2.1.)\n",
    "# A cleaned dataframe\n",
    "azdias_clean = azdias_dummy[:]"
   ]
  },
  {
   "cell_type": "code",
   "execution_count": 29,
   "metadata": {},
   "outputs": [],
   "source": [
    "# Do whatever you need to in order to ensure that the dataframe only contains\n",
    "# the columns that should be passed to the algorithm functions.\n",
    "for x in re_encode_list:\n",
    "    remove_list.append(x)\n",
    "\n",
    "for x in ['LP_LEBENSPHASE_FEIN','LP_LEBENSPHASE_GROB','WOHNLAGE','PLZ8_BAUMAX']:\n",
    "    remove_list.append(x)\n",
    "\n",
    "for x in [\"PRAEGENDE_JUGENDJAHRE\",\"CAMEO_INTL_2015\"]:\n",
    "    remove_list.append(x)\n",
    "\n",
    "for x in remove_list:\n",
    "    if x in azdias_clean.columns:\n",
    "        print(x, ' is not yet removed !!')"
   ]
  },
  {
   "cell_type": "markdown",
   "metadata": {},
   "source": [
    "### Step 1.3: Create a Cleaning Function\n",
    "\n",
    "Even though you've finished cleaning up the general population demographics data, it's important to look ahead to the future and realize that you'll need to perform the same cleaning steps on the customer demographics data. In this substep, complete the function below to execute the main feature selection, encoding, and re-engineering steps you performed above. Then, when it comes to looking at the customer data in Step 3, you can just run this function on that DataFrame to get the trimmed dataset in a single step."
   ]
  },
  {
   "cell_type": "code",
   "execution_count": 26,
   "metadata": {},
   "outputs": [],
   "source": [
    "def clean_data(df):\n",
    "    \"\"\"\n",
    "    Perform feature trimming, re-encoding, and engineering for demographics\n",
    "    data\n",
    "    \n",
    "    INPUT: Demographics DataFrame\n",
    "    OUTPUT: Trimmed and cleaned demographics DataFrame\n",
    "    \"\"\"\n",
    "    \n",
    "    # Put in code here to execute all main cleaning steps:\n",
    "    # convert missing value codes into NaNs, ...\n",
    "    att_index = feat_info.set_index('attribute') #changeindex into attribute\n",
    "    na_df = df[:] # make a new copy of data\n",
    "    for column in na_df.columns: # replace the missing/unknown element to NaN\n",
    "        na_df[column].replace(att_index.loc[column].loc['NA_tags'],np.NaN,inplace=True)\n",
    "    \n",
    "    # remove selected columns and rows, ...\n",
    "\n",
    "    # column\n",
    "    df_dropped = na_df.drop(remove_list, axis=1)\n",
    "    \n",
    "    # row\n",
    "    nan_row = df_dropped.isna().sum(axis=1)\n",
    "    df_dropped['Num_NaN'] = nan_row\n",
    "    threshold = 10  # The thershold value will be adjusted\n",
    "    df_little_na = df_dropped[df_dropped['Num_NaN'] <= threshold]\n",
    "    df_little_na.drop('Num_NaN', axis=1,inplace = True)\n",
    "    \n",
    "    # select, re-encode, and engineer column values.\n",
    "    df_little_na['OST_WEST_KZ'].replace({'O': 0, 'W':1},inplace=True)  \n",
    "    df_dummy = pd.get_dummies(df_little_na, columns=re_encode_list)   \n",
    "  \n",
    "    df_dummy.drop(['LP_LEBENSPHASE_FEIN','LP_LEBENSPHASE_GROB','WOHNLAGE','PLZ8_BAUMAX'], axis=1,inplace = True)\n",
    "    \n",
    "    df_dummy['PRAEGENDE_JUGENDJAHRE_DECADE'] = df_dummy['PRAEGENDE_JUGENDJAHRE']\n",
    "    df_dummy['PRAEGENDE_JUGENDJAHRE_MOVEMENT'] = df_dummy['PRAEGENDE_JUGENDJAHRE']\n",
    "    df_dummy.drop('PRAEGENDE_JUGENDJAHRE', axis=1,inplace = True)  \n",
    "    \n",
    "    df_dummy['PRAEGENDE_JUGENDJAHRE_DECADE'].replace({1.: 1, 2.: 1, 3.: 2, 4.: 2, 5.: 3, 6.: 3, 7.: 3, 8.: 4, 9.: 4,\n",
    "                                                      10.: 5, 11.: 5, 12.: 5, 13.: 5, 14.: 6, 15.: 6},inplace=True)\n",
    "\n",
    "    df_dummy['PRAEGENDE_JUGENDJAHRE_MOVEMENT'].replace({1.: 1, 2.: 0, 3.: 1, 4.: 0, 5.: 1, 6.: 0, 7.: 0, 8.: 1, 9.: 0,\n",
    "                                                        10.: 1, 11.: 0, 12.: 1, 13.: 0, 14.: 1, 15.: 0},inplace=True)\n",
    "    \n",
    "    df_dummy['CAMEO_INTL_2015_WEALTH'] = df_dummy['CAMEO_INTL_2015']\n",
    "    df_dummy['CAMEO_INTL_2015_LIFE_STAGE'] = df_dummy['CAMEO_INTL_2015']\n",
    "    df_dummy.drop('CAMEO_INTL_2015', axis=1,inplace = True)\n",
    "    \n",
    "    df_dummy['CAMEO_INTL_2015_WEALTH'].replace(to_replace = ['11','12','13','14','15'],value= 1,inplace=True)\n",
    "    df_dummy['CAMEO_INTL_2015_WEALTH'].replace(to_replace = ['21','22','23','24','25'],value= 2,inplace=True)\n",
    "    df_dummy['CAMEO_INTL_2015_WEALTH'].replace(to_replace = ['31','32','33','34','35'],value= 3,inplace=True)\n",
    "    df_dummy['CAMEO_INTL_2015_WEALTH'].replace(to_replace = ['41','42','43','44','45'],value= 4,inplace=True)\n",
    "    df_dummy['CAMEO_INTL_2015_WEALTH'].replace(to_replace = ['51','52','53','54','55'],value= 5,inplace=True)\n",
    "\n",
    "    df_dummy['CAMEO_INTL_2015_LIFE_STAGE'].replace(to_replace = ['11','21','31','41','51'],value= 1,inplace=True)\n",
    "    df_dummy['CAMEO_INTL_2015_LIFE_STAGE'].replace(to_replace = ['12','22','32','42','52'],value= 2,inplace=True)\n",
    "    df_dummy['CAMEO_INTL_2015_LIFE_STAGE'].replace(to_replace = ['13','23','33','43','53'],value= 3,inplace=True)\n",
    "    df_dummy['CAMEO_INTL_2015_LIFE_STAGE'].replace(to_replace = ['14','24','34','44','54'],value= 4,inplace=True)\n",
    "    df_dummy['CAMEO_INTL_2015_LIFE_STAGE'].replace(to_replace = ['15','25','35','45','55'],value= 5,inplace=True)\n",
    "    # Return the cleaned dataframe.\n",
    "    return df_dummy\n",
    "    "
   ]
  },
  {
   "cell_type": "markdown",
   "metadata": {},
   "source": [
    "## Step 2: Feature Transformation\n",
    "\n",
    "### Step 2.1: Apply Feature Scaling\n",
    "\n",
    "Before we apply dimensionality reduction techniques to the data, we need to perform feature scaling so that the principal component vectors are not influenced by the natural differences in scale for features. Starting from this part of the project, you'll want to keep an eye on the [API reference page for sklearn](http://scikit-learn.org/stable/modules/classes.html) to help you navigate to all of the classes and functions that you'll need. In this substep, you'll need to check the following:\n",
    "\n",
    "- sklearn requires that data not have missing values in order for its estimators to work properly. So, before applying the scaler to your data, make sure that you've cleaned the DataFrame of the remaining missing values. This can be as simple as just removing all data points with missing data, or applying an [Imputer](http://scikit-learn.org/stable/modules/generated/sklearn.preprocessing.Imputer.html) to replace all missing values. You might also try a more complicated procedure where you temporarily remove missing values in order to compute the scaling parameters before re-introducing those missing values and applying imputation. Think about how much missing data you have and what possible effects each approach might have on your analysis, and justify your decision in the discussion section below.\n",
    "- For the actual scaling function, a [StandardScaler](http://scikit-learn.org/stable/modules/generated/sklearn.preprocessing.StandardScaler.html) instance is suggested, scaling each feature to mean 0 and standard deviation 1.\n",
    "- For these classes, you can make use of the `.fit_transform()` method to both fit a procedure to the data as well as apply the transformation to the data at the same time. Don't forget to keep the fit sklearn objects handy, since you'll be applying them to the customer demographics data towards the end of the project."
   ]
  },
  {
   "cell_type": "code",
   "execution_count": 29,
   "metadata": {},
   "outputs": [],
   "source": [
    "# If you've not yet cleaned the dataset of all NaN values, then investigate and\n",
    "# do that now.\n",
    "from sklearn.preprocessing import Imputer, StandardScaler\n",
    "\n",
    "imputer = Imputer()\n",
    "azdias_imputed = imputer.fit_transform(azdias_clean)\n"
   ]
  },
  {
   "cell_type": "code",
   "execution_count": 30,
   "metadata": {},
   "outputs": [],
   "source": [
    "# Apply feature scaling to the general population demographics data.\n",
    "SS = StandardScaler()\n",
    "azdias_scaled = SS.fit_transform(azdias_imputed)"
   ]
  },
  {
   "cell_type": "code",
   "execution_count": 31,
   "metadata": {},
   "outputs": [],
   "source": [
    "# Change from np.array to pd.dataframe \n",
    "azdias_scaled = pd.DataFrame(azdias_scaled)\n",
    "azdias_scaled.columns = azdias_clean.columns"
   ]
  },
  {
   "cell_type": "markdown",
   "metadata": {},
   "source": [
    "### Discussion 2.1: Apply Feature Scaling\n",
    "\n",
    "The missing data is imputed by the mean value of each column. Mean value is a good estimate of the missing data. Because features with large proportion of missing data is already removed. The proportion of missing data is relatively low. It won't have a great impact to the real distribution. "
   ]
  },
  {
   "cell_type": "markdown",
   "metadata": {},
   "source": [
    "### Step 2.2: Perform Dimensionality Reduction\n",
    "\n",
    "On your scaled data, you are now ready to apply dimensionality reduction techniques.\n",
    "\n",
    "- Use sklearn's [PCA](http://scikit-learn.org/stable/modules/generated/sklearn.decomposition.PCA.html) class to apply principal component analysis on the data, thus finding the vectors of maximal variance in the data. To start, you should not set any parameters (so all components are computed) or set a number of components that is at least half the number of features (so there's enough features to see the general trend in variability).\n",
    "- Check out the ratio of variance explained by each principal component as well as the cumulative variance explained. Try plotting the cumulative or sequential values using matplotlib's [`plot()`](https://matplotlib.org/api/_as_gen/matplotlib.pyplot.plot.html) function. Based on what you find, select a value for the number of transformed features you'll retain for the clustering part of the project.\n",
    "- Once you've made a choice for the number of components to keep, make sure you re-fit a PCA instance to perform the decided-on transformation."
   ]
  },
  {
   "cell_type": "code",
   "execution_count": 32,
   "metadata": {},
   "outputs": [
    {
     "data": {
      "text/plain": [
       "PCA(copy=True, iterated_power='auto', n_components=None, random_state=2020,\n",
       "  svd_solver='auto', tol=0.0, whiten=False)"
      ]
     },
     "execution_count": 32,
     "metadata": {},
     "output_type": "execute_result"
    }
   ],
   "source": [
    "# Apply PCA to the data.\n",
    "from sklearn.decomposition import PCA\n",
    "pca = PCA(random_state=2020)\n",
    "pca.fit(azdias_scaled)\n"
   ]
  },
  {
   "cell_type": "code",
   "execution_count": 33,
   "metadata": {},
   "outputs": [],
   "source": [
    "# Investigate the variance accounted for by each principal component.\n",
    "explained_ratio = pca.explained_variance_ratio_\n",
    "cumulative = np.cumsum(explained_ratio)"
   ]
  },
  {
   "cell_type": "code",
   "execution_count": 34,
   "metadata": {
    "scrolled": true
   },
   "outputs": [
    {
     "data": {
      "image/png": "[encoded data removed]",
      "text/plain": [
       "<matplotlib.figure.Figure at 0x7fe210139390>"
      ]
     },
     "metadata": {
      "needs_background": "light"
     },
     "output_type": "display_data"
    }
   ],
   "source": [
    "fig, ax = plt.subplots()\n",
    "plt.subplot(1,2,1)\n",
    "plt.plot(explained_ratio)\n",
    "plt.ylabel('Explained Variance')\n",
    "plt.xlabel('Component')\n",
    "plt.subplot(1,2,2)\n",
    "plt.plot(cumulative)\n",
    "plt.ylabel('Cumulative Explained Variance')\n",
    "plt.xlabel('Number of components')\n",
    "plt.tight_layout()"
   ]
  },
  {
   "cell_type": "code",
   "execution_count": 35,
   "metadata": {},
   "outputs": [
    {
     "name": "stdout",
     "output_type": "stream",
     "text": [
      "The number of components required to explain 90% of variance: 105\n"
     ]
    }
   ],
   "source": [
    "# Find the number of components such that 90% of variance can be explained\n",
    "num_of_components = np.where(cumulative > 0.9)[0][0]\n",
    "print('The number of components required to explain 90% of variance:',num_of_components)"
   ]
  },
  {
   "cell_type": "code",
   "execution_count": 36,
   "metadata": {},
   "outputs": [],
   "source": [
    "# Re-apply PCA to the data while selecting for number of components to retain.\n",
    "pca = PCA(n_components = num_of_components,random_state=2020)\n",
    "pca_azdias = pca.fit_transform(azdias_scaled)"
   ]
  },
  {
   "cell_type": "markdown",
   "metadata": {},
   "source": [
    "### Discussion 2.2: Perform Dimensionality Reduction\n",
    "\n",
    "**105 principal components** are retained for 90% of explained variance."
   ]
  },
  {
   "cell_type": "markdown",
   "metadata": {},
   "source": [
    "### Step 2.3: Interpret Principal Components\n",
    "\n",
    "Now that we have our transformed principal components, it's a nice idea to check out the weight of each variable on the first few components to see if they can be interpreted in some fashion.\n",
    "\n",
    "As a reminder, each principal component is a unit vector that points in the direction of highest variance (after accounting for the variance captured by earlier principal components). The further a weight is from zero, the more the principal component is in the direction of the corresponding feature. If two features have large weights of the same sign (both positive or both negative), then increases in one tend expect to be associated with increases in the other. To contrast, features with different signs can be expected to show a negative correlation: increases in one variable should result in a decrease in the other.\n",
    "\n",
    "- To investigate the features, you should map each weight to their corresponding feature name, then sort the features according to weight. The most interesting features for each principal component, then, will be those at the beginning and end of the sorted list. Use the data dictionary document to help you understand these most prominent features, their relationships, and what a positive or negative value on the principal component might indicate.\n",
    "- You should investigate and interpret feature associations from the first three principal components in this substep. To help facilitate this, you should write a function that you can call at any time to print the sorted list of feature weights, for the *i*-th principal component. This might come in handy in the next step of the project, when you interpret the tendencies of the discovered clusters."
   ]
  },
  {
   "cell_type": "code",
   "execution_count": 37,
   "metadata": {},
   "outputs": [
    {
     "data": {
      "text/plain": [
       "MOBI_REGIO               -0.204909\n",
       "LP_STATUS_GROB_1.0        0.196068\n",
       "FINANZ_MINIMALIST        -0.192282\n",
       "KBA05_ANTG1              -0.191958\n",
       "HH_EINKOMMEN_SCORE        0.186321\n",
       "CAMEO_INTL_2015_WEALTH    0.186029\n",
       "PLZ8_ANTG1               -0.182791\n",
       "PLZ8_ANTG3                0.182130\n",
       "KBA05_GBZ                -0.181933\n",
       "PLZ8_ANTG4                0.176219\n",
       "dtype: float64"
      ]
     },
     "execution_count": 37,
     "metadata": {},
     "output_type": "execute_result"
    }
   ],
   "source": [
    "# Map weights for the first principal component to corresponding feature names\n",
    "# and then print the linked values, sorted by weight.\n",
    "# HINT: Try defining a function here or in a new cell that you can reuse in the\n",
    "# other cells.\n",
    "\n",
    "def pca_result(k):\n",
    "    weight = pd.Series(pca.components_[k])\n",
    "    weight.index = azdias_scaled.columns\n",
    "    top_weight = weight.abs().sort_values(ascending=False, inplace = False)\n",
    "    weight = weight.reindex(top_weight.index)\n",
    "    return weight\n",
    "\n",
    "pca_result(0).head(10)"
   ]
  },
  {
   "cell_type": "code",
   "execution_count": 277,
   "metadata": {},
   "outputs": [
    {
     "data": {
      "text/plain": [
       "PRAEGENDE_JUGENDJAHRE_DECADE   -0.236861\n",
       "ALTERSKATEGORIE_GROB            0.232328\n",
       "FINANZ_SPARER                  -0.225215\n",
       "FINANZ_VORSORGER                0.217792\n",
       "FINANZ_UNAUFFAELLIGER          -0.214161\n",
       "SEMIO_REL                      -0.214130\n",
       "SEMIO_TRADV                    -0.207476\n",
       "SEMIO_PFLICHT                  -0.205425\n",
       "FINANZ_ANLEGER                 -0.203087\n",
       "ZABEOTYP_3                      0.199898\n",
       "dtype: float64"
      ]
     },
     "execution_count": 277,
     "metadata": {},
     "output_type": "execute_result"
    }
   ],
   "source": [
    "# Map weights for the second principal component to corresponding feature names\n",
    "# and then print the linked values, sorted by weight.\n",
    "\n",
    "pca_result(1).head(10)"
   ]
  },
  {
   "cell_type": "code",
   "execution_count": 278,
   "metadata": {},
   "outputs": [
    {
     "data": {
      "text/plain": [
       "ANREDE_KZ    -0.345053\n",
       "SEMIO_VERT    0.319448\n",
       "SEMIO_KAEM   -0.315120\n",
       "SEMIO_DOM    -0.282764\n",
       "SEMIO_KRIT   -0.265302\n",
       "SEMIO_FAM     0.260168\n",
       "SEMIO_SOZ     0.257598\n",
       "SEMIO_KULT    0.250179\n",
       "SEMIO_ERL    -0.207035\n",
       "SEMIO_RAT    -0.154383\n",
       "dtype: float64"
      ]
     },
     "execution_count": 278,
     "metadata": {},
     "output_type": "execute_result"
    }
   ],
   "source": [
    "# Map weights for the third principal component to corresponding feature names\n",
    "# and then print the linked values, sorted by weight.\n",
    "\n",
    "pca_result(2).head(10)"
   ]
  },
  {
   "cell_type": "markdown",
   "metadata": {},
   "source": [
    "### Discussion 2.3: Interpret Principal Components\n",
    "\n",
    "**The 1st principal component (PC0)** <br>\n",
    "The following features have large positive weights. <br>\n",
    "1. LP_STATUS_GROB_1.0 (Social status, rough scale)\n",
    "2. HH_EINKOMMEN_SCORE (Estimated household net income)\n",
    "3. CAMEO_INTL_2015_WEALTH (German CAMEO: Wealth)\n",
    "\n",
    "Poor households and low income have high score in those features.\n",
    "\n",
    "The following features have large negative weights. <br>\n",
    "1.\tMOBI_REGIO (Movement patterns)\n",
    "2.\tFINANZ_MINIMALIST (Financial typology: low financial interest)\n",
    "3.\tKBA05_ANTG1 (Number of 1-2 family houses in the microcell)\n",
    "4. PLZ8_ANTG1 (Number of 1-2 family houses in the PLZ8 region)\n",
    "\n",
    "Low movement, high financial interest and high share of 1-2 family homes have high score in those features. \n",
    "\n",
    "It is expected that poor households and income have negtive correlation with better housing and financial interest.\n",
    "\n",
    "**The 2nd principal component (PC1)** <br>\n",
    "The following features have large positive weights. <br>\n",
    "1.\tALTERSKATEGORIE_GROB (Estimated age based on given name analysis)\n",
    "2.\tFINANZ_VORSORGER (Financial typology: be prepared)\n",
    "\n",
    "Elder and financially not be prepared have high score in those features.\n",
    "\n",
    "The following features have large negative weights. <br>\n",
    "1.\tPRAEGENDE_JUGENDJAHRE_DECADE (Generation by decade)\n",
    "2.\tFINANZ_SPARER (Financial typology: money-saver)\n",
    "\n",
    "Younger and non-money-saver hae high score in those features.\n",
    "\n",
    "Elder and younger are opposite in nature. So, they should have very strong negative correlation. Young age group usually is not a money-saver.\n",
    "\n",
    "**The 3rd principal component (PC2)** <br>\n",
    "The following features have large positive weights. <br>\n",
    "1.\tSEMIO_VERT (Personality typology: dreamful)\n",
    "2.\tSEMIO_FAM (Personality typology: family-minded)\n",
    "3.\tSEMIO_SOZ (Personality typology: socially-minded)\n",
    "4.\tSEMIO_KULT (Personality typology: cultural-minded)\n",
    "\n",
    "High score in those features mean less likely in corresponding personality.\n",
    "\n",
    "The following features have large negative weights. <br>\n",
    "1.\tANREDE_KZ (Gender)\n",
    "2.\tSEMIO_KAEM (Personality typology: combative attitude)\n",
    "3.\tSEMIO_DOM (Personality typology: dominant-minded))\n",
    "4.\tSEMIO_KRIT (Personality typology: critical-minded)\n",
    "5.\tSEMIO_ERL (Personality typology: event-oriented)\n",
    "6.\tSEMIO_RAT (Personality typology: rational)\n",
    "\n",
    "High score in those features mean less likely in corresponding personality.\n",
    "\n",
    "Personality have strong correlation with gender. Some of them are male dominated and some of them are female dominate. So, correlation with personalities take two extreme values. \n",
    "\n",
    "\n",
    "\n",
    "\n",
    "\n",
    "\n",
    "\n",
    "\n",
    "\n",
    "\n"
   ]
  },
  {
   "cell_type": "markdown",
   "metadata": {},
   "source": [
    "## Step 3: Clustering\n",
    "\n",
    "### Step 3.1: Apply Clustering to General Population\n",
    "\n",
    "You've assessed and cleaned the demographics data, then scaled and transformed them. Now, it's time to see how the data clusters in the principal components space. In this substep, you will apply k-means clustering to the dataset and use the average within-cluster distances from each point to their assigned cluster's centroid to decide on a number of clusters to keep.\n",
    "\n",
    "- Use sklearn's [KMeans](http://scikit-learn.org/stable/modules/generated/sklearn.cluster.KMeans.html#sklearn.cluster.KMeans) class to perform k-means clustering on the PCA-transformed data.\n",
    "- Then, compute the average difference from each point to its assigned cluster's center. **Hint**: The KMeans object's `.score()` method might be useful here, but note that in sklearn, scores tend to be defined so that larger is better. Try applying it to a small, toy dataset, or use an internet search to help your understanding.\n",
    "- Perform the above two steps for a number of different cluster counts. You can then see how the average distance decreases with an increasing number of clusters. However, each additional cluster provides a smaller net benefit. Use this fact to select a final number of clusters in which to group the data. **Warning**: because of the large size of the dataset, it can take a long time for the algorithm to resolve. The more clusters to fit, the longer the algorithm will take. You should test for cluster counts through at least 10 clusters to get the full picture, but you shouldn't need to test for a number of clusters above about 30.\n",
    "- Once you've selected a final number of clusters to use, re-fit a KMeans instance to perform the clustering operation. Make sure that you also obtain the cluster assignments for the general demographics data, since you'll be using them in the final Step 3.3."
   ]
  },
  {
   "cell_type": "code",
   "execution_count": 38,
   "metadata": {},
   "outputs": [],
   "source": [
    "from sklearn.cluster import KMeans\n",
    "\n",
    "# Over a number of different cluster counts...\n",
    "# run k-means clustering on the data and...\n",
    "# compute the average within-cluster distances.\n",
    "\n",
    "def kmean_score (num_of_cluster, df):\n",
    "    kmeans = KMeans(n_clusters=num_of_cluster, random_state=2020)\n",
    "    model = kmeans.fit(df)\n",
    "    score = np.abs(model.score(df))\n",
    "    return score\n"
   ]
  },
  {
   "cell_type": "code",
   "execution_count": null,
   "metadata": {},
   "outputs": [],
   "source": [
    "score_list = []\n",
    "for i in range(2,25):\n",
    "    score_list.append(kmean_score(i,pca_azdias))"
   ]
  },
  {
   "cell_type": "code",
   "execution_count": 56,
   "metadata": {},
   "outputs": [],
   "source": [
    "# n = 20 -24\n",
    "for i in range(20,25):\n",
    "    score_list.append(kmean_score(i,pca_azdias))"
   ]
  },
  {
   "cell_type": "code",
   "execution_count": 68,
   "metadata": {},
   "outputs": [
    {
     "data": {
      "image/png": "[encoded data removed]",
      "text/plain": [
       "<matplotlib.figure.Figure at 0x7f3729c1cbe0>"
      ]
     },
     "metadata": {
      "needs_background": "light"
     },
     "output_type": "display_data"
    }
   ],
   "source": [
    "# Investigate the change in within-cluster distance across number of clusters.\n",
    "# HINT: Use matplotlib's plot function to visualize this relationship.\n",
    "\n",
    "plt.plot(range(2,25), score_list)\n",
    "plt.ylabel('KMeans Score')\n",
    "plt.xlabel('Number of clusters')\n",
    "plt.xticks(range(0,25,2))\n",
    "plt.ylim(1e8, 1.26e8)\n",
    "plt.show()"
   ]
  },
  {
   "cell_type": "code",
   "execution_count": 39,
   "metadata": {},
   "outputs": [],
   "source": [
    "# Re-fit the k-means model with the selected number of clusters and obtain\n",
    "# cluster predictions for the general population demographics data.\n",
    "\n",
    "kmeans = KMeans(n_clusters=9, random_state=2020)\n",
    "pred = kmeans.fit_predict(pca_azdias)\n"
   ]
  },
  {
   "cell_type": "markdown",
   "metadata": {},
   "source": [
    "### Discussion 3.1: Apply Clustering to General Population\n",
    "\n",
    "From the graph, the slope of curve changes drastically when the number of clusters is 9. So, the number of clusters should be **9**. \n",
    "\n"
   ]
  },
  {
   "cell_type": "markdown",
   "metadata": {},
   "source": [
    "### Step 3.2: Apply All Steps to the Customer Data\n",
    "\n",
    "Now that you have clusters and cluster centers for the general population, it's time to see how the customer data maps on to those clusters. Take care to not confuse this for re-fitting all of the models to the customer data. Instead, you're going to use the fits from the general population to clean, transform, and cluster the customer data. In the last step of the project, you will interpret how the general population fits apply to the customer data.\n",
    "\n",
    "- Don't forget when loading in the customers data, that it is semicolon (`;`) delimited.\n",
    "- Apply the same feature wrangling, selection, and engineering steps to the customer demographics using the `clean_data()` function you created earlier. (You can assume that the customer demographics data has similar meaning behind missing data patterns as the general demographics data.)\n",
    "- Use the sklearn objects from the general demographics data, and apply their transformations to the customers data. That is, you should not be using a `.fit()` or `.fit_transform()` method to re-fit the old objects, nor should you be creating new sklearn objects! Carry the data through the feature scaling, PCA, and clustering steps, obtaining cluster assignments for all of the data in the customer demographics data."
   ]
  },
  {
   "cell_type": "code",
   "execution_count": 40,
   "metadata": {},
   "outputs": [],
   "source": [
    "# Load in the customer demographics data.\n",
    "customers = pd.read_csv('Udacity_CUSTOMERS_Subset.csv',delimiter=';')"
   ]
  },
  {
   "cell_type": "code",
   "execution_count": 41,
   "metadata": {
    "scrolled": true
   },
   "outputs": [
    {
     "name": "stderr",
     "output_type": "stream",
     "text": [
      "/opt/conda/lib/python3.6/site-packages/pandas/core/generic.py:5890: SettingWithCopyWarning: \n",
      "A value is trying to be set on a copy of a slice from a DataFrame\n",
      "\n",
      "See the caveats in the documentation: http://pandas.pydata.org/pandas-docs/stable/indexing.html#indexing-view-versus-copy\n",
      "  self._update_inplace(new_data)\n",
      "/opt/conda/lib/python3.6/site-packages/pandas/core/frame.py:3697: SettingWithCopyWarning: \n",
      "A value is trying to be set on a copy of a slice from a DataFrame\n",
      "\n",
      "See the caveats in the documentation: http://pandas.pydata.org/pandas-docs/stable/indexing.html#indexing-view-versus-copy\n",
      "  errors=errors)\n"
     ]
    }
   ],
   "source": [
    "# Apply preprocessing, feature transformation, and clustering from the general\n",
    "# demographics onto the customer data, obtaining cluster predictions for the\n",
    "# customer demographics data.\n",
    "\n",
    "customers_clean = clean_data(customers)\n"
   ]
  },
  {
   "cell_type": "code",
   "execution_count": 42,
   "metadata": {},
   "outputs": [],
   "source": [
    "# After inspection of the dataframe, one columns generating from get_dummies is missing.\n",
    "# It is believed that no data in customers dataset has a value of 5.0 for that feature.\n",
    "#So, get_dummies does not generate such column. It is added manually.\n",
    "\n",
    "customers_clean.insert(132,'GEBAEUDETYP_5.0',0)"
   ]
  },
  {
   "cell_type": "code",
   "execution_count": 43,
   "metadata": {},
   "outputs": [],
   "source": [
    "# impute NaN, scaling\n",
    "\n",
    "customers_imputed = imputer.transform(customers_clean)    #updated\n",
    "customers_scaled = SS.transform(customers_imputed)        #updated\n",
    "customers_scaled = pd.DataFrame(customers_scaled)\n",
    "customers_scaled.columns = customers_clean.columns"
   ]
  },
  {
   "cell_type": "code",
   "execution_count": 44,
   "metadata": {},
   "outputs": [],
   "source": [
    "pca_customers = pca.transform(customers_scaled)\n",
    "pred_customers = kmeans.predict(pca_customers)"
   ]
  },
  {
   "cell_type": "markdown",
   "metadata": {},
   "source": [
    "### Step 3.3: Compare Customer Data to Demographics Data\n",
    "\n",
    "At this point, you have clustered data based on demographics of the general population of Germany, and seen how the customer data for a mail-order sales company maps onto those demographic clusters. In this final substep, you will compare the two cluster distributions to see where the strongest customer base for the company is.\n",
    "\n",
    "Consider the proportion of persons in each cluster for the general population, and the proportions for the customers. If we think the company's customer base to be universal, then the cluster assignment proportions should be fairly similar between the two. If there are only particular segments of the population that are interested in the company's products, then we should see a mismatch from one to the other. If there is a higher proportion of persons in a cluster for the customer data compared to the general population (e.g. 5% of persons are assigned to a cluster for the general population, but 15% of the customer data is closest to that cluster's centroid) then that suggests the people in that cluster to be a target audience for the company. On the other hand, the proportion of the data in a cluster being larger in the general population than the customer data (e.g. only 2% of customers closest to a population centroid that captures 6% of the data) suggests that group of persons to be outside of the target demographics.\n",
    "\n",
    "Take a look at the following points in this step:\n",
    "\n",
    "- Compute the proportion of data points in each cluster for the general population and the customer data. Visualizations will be useful here: both for the individual dataset proportions, but also to visualize the ratios in cluster representation between groups. Seaborn's [`countplot()`](https://seaborn.pydata.org/generated/seaborn.countplot.html) or [`barplot()`](https://seaborn.pydata.org/generated/seaborn.barplot.html) function could be handy.\n",
    "  - Recall the analysis you performed in step 1.1.3 of the project, where you separated out certain data points from the dataset if they had more than a specified threshold of missing values. If you found that this group was qualitatively different from the main bulk of the data, you should treat this as an additional data cluster in this analysis. Make sure that you account for the number of data points in this subset, for both the general population and customer datasets, when making your computations!\n",
    "- Which cluster or clusters are overrepresented in the customer dataset compared to the general population? Select at least one such cluster and infer what kind of people might be represented by that cluster. Use the principal component interpretations from step 2.3 or look at additional components to help you make this inference. Alternatively, you can use the `.inverse_transform()` method of the PCA and StandardScaler objects to transform centroids back to the original data space and interpret the retrieved values directly.\n",
    "- Perform a similar investigation for the underrepresented clusters. Which cluster or clusters are underrepresented in the customer dataset compared to the general population, and what kinds of people are typified by these clusters?"
   ]
  },
  {
   "cell_type": "code",
   "execution_count": 45,
   "metadata": {
    "scrolled": false
   },
   "outputs": [
    {
     "data": {
      "image/png": "[encoded data removed]",
      "text/plain": [
       "<matplotlib.figure.Figure at 0x7fe1f8950048>"
      ]
     },
     "metadata": {
      "needs_background": "light"
     },
     "output_type": "display_data"
    }
   ],
   "source": [
    "# Compare the proportion of data in each cluster for the customer data to the\n",
    "# proportion of data in each cluster for the general population.\n",
    "pred_df = pd.DataFrame({'Cluster':pred})\n",
    "pred_customers_df = pd.DataFrame({'Cluster':pred_customers})\n",
    "fig, ax = plt.subplots()\n",
    "plt.subplot(1,2,1)\n",
    "sns.countplot(x='Cluster',data=pred_df)\n",
    "plt.title('General Population')\n",
    "plt.subplot(1,2,2)\n",
    "sns.countplot(x='Cluster',data=pred_customers_df)\n",
    "plt.title('Customer Data')\n",
    "plt.tight_layout()"
   ]
  },
  {
   "cell_type": "code",
   "execution_count": 46,
   "metadata": {},
   "outputs": [
    {
     "name": "stdout",
     "output_type": "stream",
     "text": [
      "    General  Customers  Difference\n",
      "0  0.047575   0.043907   -0.366871\n",
      "1  0.139607   0.205195    6.558735\n",
      "2  0.131047   0.010800  -12.024690\n",
      "3  0.180135   0.127082   -5.305346\n",
      "4  0.111305   0.015776   -9.552864\n",
      "5  0.121119   0.356049   23.493029\n",
      "6  0.124931   0.120423   -0.450752\n",
      "7  0.044096   0.109170    6.507314\n",
      "8  0.100184   0.011599   -8.858555\n"
     ]
    }
   ],
   "source": [
    "# Identitfy significat change in proportion between general popoulation and customers data \n",
    "general_proportion = pred_df['Cluster'].value_counts(normalize=True, sort=False)\n",
    "customers_proportion = pred_customers_df['Cluster'].value_counts(normalize=True, sort=False)\n",
    "proportion_df = pd.DataFrame({'General(%)':general_proportion,'Customers(%)':customers_proportion})\n",
    "\n",
    "proportion_df.loc[:,'Difference'] =proportion_df.loc[:,'Customers'].subtract(proportion_df.loc[:,'General'])\n",
    "proportion_df['Difference']*=100\n",
    "print(proportion_df)"
   ]
  },
  {
   "cell_type": "code",
   "execution_count": null,
   "metadata": {},
   "outputs": [],
   "source": [
    "# What kinds of people are part of a cluster that is overrepresented in the\n",
    "# customer data compared to the general population?\n",
    "\n",
    "# Cluster 5"
   ]
  },
  {
   "cell_type": "code",
   "execution_count": 265,
   "metadata": {
    "scrolled": true
   },
   "outputs": [
    {
     "data": {
      "text/plain": [
       "0   -4.552556\n",
       "3    3.132337\n",
       "5   -1.244508\n",
       "2    0.980767\n",
       "6   -0.951711\n",
       "dtype: float64"
      ]
     },
     "execution_count": 265,
     "metadata": {},
     "output_type": "execute_result"
    }
   ],
   "source": [
    "# Find top 5 PCA of cluster 5\n",
    "cluster5= kmeans.cluster_centers_[5]\n",
    "cluster5 = pd.Series(cluster5)\n",
    "top_PCA = cluster5.abs().sort_values(ascending=False, inplace=False)\n",
    "cluster5.reindex(top_PCA.index).head()"
   ]
  },
  {
   "cell_type": "markdown",
   "metadata": {},
   "source": [
    "**Cluster 5 is negatively realted to PC0 and positively related to PC3.**"
   ]
  },
  {
   "cell_type": "code",
   "execution_count": 279,
   "metadata": {},
   "outputs": [
    {
     "data": {
      "text/plain": [
       "MOBI_REGIO               -0.204909\n",
       "LP_STATUS_GROB_1.0        0.196068\n",
       "FINANZ_MINIMALIST        -0.192282\n",
       "KBA05_ANTG1              -0.191958\n",
       "HH_EINKOMMEN_SCORE        0.186321\n",
       "CAMEO_INTL_2015_WEALTH    0.186029\n",
       "PLZ8_ANTG1               -0.182791\n",
       "PLZ8_ANTG3                0.182130\n",
       "KBA05_GBZ                -0.181933\n",
       "PLZ8_ANTG4                0.176219\n",
       "dtype: float64"
      ]
     },
     "execution_count": 279,
     "metadata": {},
     "output_type": "execute_result"
    }
   ],
   "source": [
    "# PCA 0th-component\n",
    "pca_result(0).head(10)"
   ]
  },
  {
   "cell_type": "code",
   "execution_count": 280,
   "metadata": {},
   "outputs": [
    {
     "data": {
      "text/plain": [
       "PRAEGENDE_JUGENDJAHRE_MOVEMENT   -0.293048\n",
       "GREEN_AVANTGARDE                  0.292327\n",
       "LP_STATUS_FEIN_10.0               0.242087\n",
       "LP_STATUS_GROB_5.0                0.242087\n",
       "EWDICHTE                          0.210078\n",
       "ORTSGR_KLS9                       0.205196\n",
       "LP_STATUS_GROB_4.0               -0.196062\n",
       "LP_STATUS_FEIN_9.0               -0.185565\n",
       "BALLRAUM                         -0.173544\n",
       "INNENSTADT                       -0.170762\n",
       "dtype: float64"
      ]
     },
     "execution_count": 280,
     "metadata": {},
     "output_type": "execute_result"
    }
   ],
   "source": [
    "# PCA 3rd-component\n",
    "pca_result(3).head(10)"
   ]
  },
  {
   "cell_type": "code",
   "execution_count": null,
   "metadata": {},
   "outputs": [],
   "source": [
    "# What kinds of people are part of a cluster that is underrepresented in the\n",
    "# customer data compared to the general population?\n",
    "\n",
    "Cluster 2"
   ]
  },
  {
   "cell_type": "code",
   "execution_count": 281,
   "metadata": {},
   "outputs": [
    {
     "data": {
      "text/plain": [
       "0     4.703721\n",
       "2    -2.440487\n",
       "1    -2.014964\n",
       "3     0.694402\n",
       "16    0.494112\n",
       "dtype: float64"
      ]
     },
     "execution_count": 281,
     "metadata": {},
     "output_type": "execute_result"
    }
   ],
   "source": [
    "# Find top 5 PCA of cluster 2\n",
    "cluster2= kmeans.cluster_centers_[2]\n",
    "cluster2 = pd.Series(cluster2)\n",
    "top_PCA = cluster2.abs().sort_values(ascending=False, inplace=False)\n",
    "cluster2.reindex(top_PCA.index).head()"
   ]
  },
  {
   "cell_type": "markdown",
   "metadata": {},
   "source": [
    "**Cluster 2 is positively realted to PC0 and negatively related to PC2 and PC1.**"
   ]
  },
  {
   "cell_type": "code",
   "execution_count": 282,
   "metadata": {
    "scrolled": true
   },
   "outputs": [
    {
     "data": {
      "text/plain": [
       "ANREDE_KZ    -0.345053\n",
       "SEMIO_VERT    0.319448\n",
       "SEMIO_KAEM   -0.315120\n",
       "SEMIO_DOM    -0.282764\n",
       "SEMIO_KRIT   -0.265302\n",
       "SEMIO_FAM     0.260168\n",
       "SEMIO_SOZ     0.257598\n",
       "SEMIO_KULT    0.250179\n",
       "SEMIO_ERL    -0.207035\n",
       "SEMIO_RAT    -0.154383\n",
       "dtype: float64"
      ]
     },
     "execution_count": 282,
     "metadata": {},
     "output_type": "execute_result"
    }
   ],
   "source": [
    "# PCA 2nd-component\n",
    "pca_result(2).head(10)"
   ]
  },
  {
   "cell_type": "code",
   "execution_count": 283,
   "metadata": {},
   "outputs": [
    {
     "data": {
      "text/plain": [
       "PRAEGENDE_JUGENDJAHRE_DECADE   -0.236861\n",
       "ALTERSKATEGORIE_GROB            0.232328\n",
       "FINANZ_SPARER                  -0.225215\n",
       "FINANZ_VORSORGER                0.217792\n",
       "FINANZ_UNAUFFAELLIGER          -0.214161\n",
       "SEMIO_REL                      -0.214130\n",
       "SEMIO_TRADV                    -0.207476\n",
       "SEMIO_PFLICHT                  -0.205425\n",
       "FINANZ_ANLEGER                 -0.203087\n",
       "ZABEOTYP_3                      0.199898\n",
       "dtype: float64"
      ]
     },
     "execution_count": 283,
     "metadata": {},
     "output_type": "execute_result"
    }
   ],
   "source": [
    "# PCA 1st-component\n",
    "pca_result(1).head(10)"
   ]
  },
  {
   "cell_type": "markdown",
   "metadata": {},
   "source": [
    "### Discussion 3.3: Compare Customer Data to Demographics Data\n",
    "\n",
    "**Cluster 5** is relatively popular with the mail-order company and **cluster 2** is relatively unpopular with the company.\n",
    "\n",
    "**Cluster 5** is negatiely realted to PC0 and positively realted to PC3. PC0 represents poor household and lower income. PC3 represents bigger family size and higher socical status. So, cluster 5 represnts popoulations with better household, higher income, better social status and bigger family.\n",
    "\n",
    "**Cluster 2** is positively realted to PC0 and negatively related to PC1 and PC2. PC1 represents older age group. PC2 represents rational and critical-minded. So, cluster 2 presents population with poor household, lower income, younger age group and less rational and critical-minded.\n"
   ]
  },
  {
   "cell_type": "markdown",
   "metadata": {},
   "source": [
    "> Congratulations on making it this far in the project! Before you finish, make sure to check through the entire notebook from top to bottom to make sure that your analysis follows a logical flow and all of your findings are documented in **Discussion** cells. Once you've checked over all of your work, you should export the notebook as an HTML document to submit for evaluation. You can do this from the menu, navigating to **File -> Download as -> HTML (.html)**. You will submit both that document and this notebook for your project submission."
   ]
  },
  {
   "cell_type": "code",
   "execution_count": null,
   "metadata": {},
   "outputs": [],
   "source": []
  }
 ],
 "metadata": {
  "kernelspec": {
   "display_name": "Python 3",
   "language": "python",
   "name": "python3"
  },
  "language_info": {
   "codemirror_mode": {
    "name": "ipython",
    "version": 3
   },
   "file_extension": ".py",
   "mimetype": "text/x-python",
   "name": "python",
   "nbconvert_exporter": "python",
   "pygments_lexer": "ipython3",
   "version": "3.6.3"
  }
 },
 "nbformat": 4,
 "nbformat_minor": 2
}
